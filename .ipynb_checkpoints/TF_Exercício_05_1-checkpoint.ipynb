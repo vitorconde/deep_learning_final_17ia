{
 "cells": [
  {
   "cell_type": "code",
   "execution_count": 1,
   "metadata": {
    "id": "IL4uIJ3BHj5h"
   },
   "outputs": [],
   "source": [
    "# Link Trabalho Final : https://www.dropbox.com/s/3fla2xuc8t9xba2/Deep%20Learning%20-%20Lista%20de%20Exerc%C3%ADcios%20v1.4.pdf?dl=0"
   ]
  },
  {
   "cell_type": "code",
   "execution_count": 5,
   "metadata": {},
   "outputs": [
    {
     "ename": "NameError",
     "evalue": "name 'img' is not defined",
     "output_type": "error",
     "traceback": [
      "\u001b[1;31m---------------------------------------------------------------------------\u001b[0m",
      "\u001b[1;31mNameError\u001b[0m                                 Traceback (most recent call last)",
      "\u001b[1;32m<ipython-input-5-2809fd9f5288>\u001b[0m in \u001b[0;36m<module>\u001b[1;34m\u001b[0m\n\u001b[0;32m      1\u001b[0m \u001b[1;32mfrom\u001b[0m \u001b[0mIPython\u001b[0m\u001b[1;33m.\u001b[0m\u001b[0mdisplay\u001b[0m \u001b[1;32mimport\u001b[0m \u001b[0mImage\u001b[0m\u001b[1;33m\u001b[0m\u001b[1;33m\u001b[0m\u001b[0m\n\u001b[1;32m----> 2\u001b[1;33m \u001b[0mImage\u001b[0m\u001b[1;33m(\u001b[0m\u001b[0mimg\u001b[0m\u001b[1;33m/\u001b[0m\u001b[0mex51\u001b[0m\u001b[1;33m.\u001b[0m\u001b[0mpng\u001b[0m\u001b[1;33m)\u001b[0m\u001b[1;33m\u001b[0m\u001b[1;33m\u001b[0m\u001b[0m\n\u001b[0m",
      "\u001b[1;31mNameError\u001b[0m: name 'img' is not defined"
     ]
    }
   ],
   "source": [
    "from IPython.display import Image\n",
    "Image(img/ex51.png)"
   ]
  },
  {
   "cell_type": "code",
   "execution_count": 2,
   "metadata": {
    "id": "HfU7ax3LH4MS"
   },
   "outputs": [],
   "source": [
    "from sklearn import datasets\n",
    "import os\n",
    "import tensorflow as tf\n",
    "import numpy as np\n",
    "import pandas as pd\n",
    "import matplotlib.pyplot as plt\n",
    "import keras\n",
    "from keras.models import Sequential,load_model\n",
    "from keras.layers import Conv2D, MaxPooling2D, Flatten, Dense, Dropout, AveragePooling2D\n",
    "from keras.utils import np_utils\n",
    "#from keras.utils import plot_model\n",
    "from keras.utils.vis_utils import plot_model\n",
    "from keras.utils.np_utils import  to_categorical\n",
    "from keras.callbacks import ModelCheckpoint   "
   ]
  },
  {
   "cell_type": "code",
   "execution_count": 3,
   "metadata": {
    "colab": {
     "base_uri": "https://localhost:8080/",
     "height": 224
    },
    "id": "5atbqVkS6DFr",
    "outputId": "71908327-91a3-40dc-f979-a4ff07fd466e"
   },
   "outputs": [
    {
     "name": "stdout",
     "output_type": "stream",
     "text": [
      "Arquivo Existe\n"
     ]
    }
   ],
   "source": [
    "# from google.colab import drive\n",
    "# drive.mount('/content/drive')\n",
    "file_path = 'D:\\__Projetos_\\_MBA\\DeepLearning\\deep_learning_final_17ia\\dados\\DadosSpotify.csv'\n",
    "\n",
    "if os.path.exists(file_path) :\n",
    "    print(\"Arquivo Existe\")"
   ]
  },
  {
   "cell_type": "code",
   "execution_count": 4,
   "metadata": {},
   "outputs": [
    {
     "name": "stdout",
     "output_type": "stream",
     "text": [
      "(2017, 17)\n"
     ]
    },
    {
     "data": {
      "text/html": [
       "<div>\n",
       "<style scoped>\n",
       "    .dataframe tbody tr th:only-of-type {\n",
       "        vertical-align: middle;\n",
       "    }\n",
       "\n",
       "    .dataframe tbody tr th {\n",
       "        vertical-align: top;\n",
       "    }\n",
       "\n",
       "    .dataframe thead th {\n",
       "        text-align: right;\n",
       "    }\n",
       "</style>\n",
       "<table border=\"1\" class=\"dataframe\">\n",
       "  <thead>\n",
       "    <tr style=\"text-align: right;\">\n",
       "      <th></th>\n",
       "      <th>id</th>\n",
       "      <th>acousticness</th>\n",
       "      <th>danceability</th>\n",
       "      <th>duration_ms</th>\n",
       "      <th>energy</th>\n",
       "      <th>instrumentalness</th>\n",
       "      <th>key</th>\n",
       "      <th>liveness</th>\n",
       "      <th>loudness</th>\n",
       "      <th>mode</th>\n",
       "      <th>speechiness</th>\n",
       "      <th>tempo</th>\n",
       "      <th>time_signature</th>\n",
       "      <th>valence</th>\n",
       "      <th>target</th>\n",
       "      <th>song_title</th>\n",
       "      <th>artist</th>\n",
       "    </tr>\n",
       "  </thead>\n",
       "  <tbody>\n",
       "    <tr>\n",
       "      <th>0</th>\n",
       "      <td>0</td>\n",
       "      <td>0.0102</td>\n",
       "      <td>0.833</td>\n",
       "      <td>204600</td>\n",
       "      <td>0.434</td>\n",
       "      <td>0.021900</td>\n",
       "      <td>2</td>\n",
       "      <td>0.1650</td>\n",
       "      <td>-8.795</td>\n",
       "      <td>1</td>\n",
       "      <td>0.4310</td>\n",
       "      <td>150.062</td>\n",
       "      <td>4.0</td>\n",
       "      <td>0.286</td>\n",
       "      <td>1</td>\n",
       "      <td>Mask Off</td>\n",
       "      <td>Future</td>\n",
       "    </tr>\n",
       "    <tr>\n",
       "      <th>1</th>\n",
       "      <td>1</td>\n",
       "      <td>0.1990</td>\n",
       "      <td>0.743</td>\n",
       "      <td>326933</td>\n",
       "      <td>0.359</td>\n",
       "      <td>0.006110</td>\n",
       "      <td>1</td>\n",
       "      <td>0.1370</td>\n",
       "      <td>-10.401</td>\n",
       "      <td>1</td>\n",
       "      <td>0.0794</td>\n",
       "      <td>160.083</td>\n",
       "      <td>4.0</td>\n",
       "      <td>0.588</td>\n",
       "      <td>1</td>\n",
       "      <td>Redbone</td>\n",
       "      <td>Childish Gambino</td>\n",
       "    </tr>\n",
       "    <tr>\n",
       "      <th>2</th>\n",
       "      <td>2</td>\n",
       "      <td>0.0344</td>\n",
       "      <td>0.838</td>\n",
       "      <td>185707</td>\n",
       "      <td>0.412</td>\n",
       "      <td>0.000234</td>\n",
       "      <td>2</td>\n",
       "      <td>0.1590</td>\n",
       "      <td>-7.148</td>\n",
       "      <td>1</td>\n",
       "      <td>0.2890</td>\n",
       "      <td>75.044</td>\n",
       "      <td>4.0</td>\n",
       "      <td>0.173</td>\n",
       "      <td>1</td>\n",
       "      <td>Xanny Family</td>\n",
       "      <td>Future</td>\n",
       "    </tr>\n",
       "    <tr>\n",
       "      <th>3</th>\n",
       "      <td>3</td>\n",
       "      <td>0.6040</td>\n",
       "      <td>0.494</td>\n",
       "      <td>199413</td>\n",
       "      <td>0.338</td>\n",
       "      <td>0.510000</td>\n",
       "      <td>5</td>\n",
       "      <td>0.0922</td>\n",
       "      <td>-15.236</td>\n",
       "      <td>1</td>\n",
       "      <td>0.0261</td>\n",
       "      <td>86.468</td>\n",
       "      <td>4.0</td>\n",
       "      <td>0.230</td>\n",
       "      <td>1</td>\n",
       "      <td>Master Of None</td>\n",
       "      <td>Beach House</td>\n",
       "    </tr>\n",
       "    <tr>\n",
       "      <th>4</th>\n",
       "      <td>4</td>\n",
       "      <td>0.1800</td>\n",
       "      <td>0.678</td>\n",
       "      <td>392893</td>\n",
       "      <td>0.561</td>\n",
       "      <td>0.512000</td>\n",
       "      <td>5</td>\n",
       "      <td>0.4390</td>\n",
       "      <td>-11.648</td>\n",
       "      <td>0</td>\n",
       "      <td>0.0694</td>\n",
       "      <td>174.004</td>\n",
       "      <td>4.0</td>\n",
       "      <td>0.904</td>\n",
       "      <td>1</td>\n",
       "      <td>Parallel Lines</td>\n",
       "      <td>Junior Boys</td>\n",
       "    </tr>\n",
       "  </tbody>\n",
       "</table>\n",
       "</div>"
      ],
      "text/plain": [
       "   id  acousticness  danceability  duration_ms  energy  instrumentalness  key  \\\n",
       "0   0        0.0102         0.833       204600   0.434          0.021900    2   \n",
       "1   1        0.1990         0.743       326933   0.359          0.006110    1   \n",
       "2   2        0.0344         0.838       185707   0.412          0.000234    2   \n",
       "3   3        0.6040         0.494       199413   0.338          0.510000    5   \n",
       "4   4        0.1800         0.678       392893   0.561          0.512000    5   \n",
       "\n",
       "   liveness  loudness  mode  speechiness    tempo  time_signature  valence  \\\n",
       "0    0.1650    -8.795     1       0.4310  150.062             4.0    0.286   \n",
       "1    0.1370   -10.401     1       0.0794  160.083             4.0    0.588   \n",
       "2    0.1590    -7.148     1       0.2890   75.044             4.0    0.173   \n",
       "3    0.0922   -15.236     1       0.0261   86.468             4.0    0.230   \n",
       "4    0.4390   -11.648     0       0.0694  174.004             4.0    0.904   \n",
       "\n",
       "   target      song_title            artist  \n",
       "0       1        Mask Off            Future  \n",
       "1       1         Redbone  Childish Gambino  \n",
       "2       1    Xanny Family            Future  \n",
       "3       1  Master Of None       Beach House  \n",
       "4       1  Parallel Lines       Junior Boys  "
      ]
     },
     "execution_count": 4,
     "metadata": {},
     "output_type": "execute_result"
    }
   ],
   "source": [
    "df = pd.read_csv(file_path)\n",
    "\n",
    "print(df.shape)\n",
    "df.head(5)"
   ]
  },
  {
   "cell_type": "code",
   "execution_count": 5,
   "metadata": {
    "colab": {
     "base_uri": "https://localhost:8080/"
    },
    "id": "uouIGEHKbb0F",
    "outputId": "66b82d2f-dcd6-44b6-ef35-b33ad261936d"
   },
   "outputs": [
    {
     "data": {
      "text/plain": [
       "1    1020\n",
       "0     997\n",
       "Name: target, dtype: int64"
      ]
     },
     "execution_count": 5,
     "metadata": {},
     "output_type": "execute_result"
    }
   ],
   "source": [
    "df.target.value_counts()"
   ]
  },
  {
   "cell_type": "code",
   "execution_count": 6,
   "metadata": {
    "colab": {
     "base_uri": "https://localhost:8080/"
    },
    "id": "ySFdkrc6aWC1",
    "outputId": "add36a33-172f-4938-8248-cbfd9572b1b6"
   },
   "outputs": [
    {
     "name": "stdout",
     "output_type": "stream",
     "text": [
      "(2017, 12) (2017,) Index(['id', 'acousticness', 'danceability', 'duration_ms', 'energy',\n",
      "       'instrumentalness', 'key', 'liveness', 'loudness', 'mode',\n",
      "       'speechiness', 'tempo', 'time_signature', 'valence', 'target',\n",
      "       'song_title', 'artist'],\n",
      "      dtype='object')\n"
     ]
    }
   ],
   "source": [
    "# Separando dados em X e Y\n",
    "X= df.drop(['target','song_title','artist','key','mode'],axis=1).to_numpy()\n",
    "Y= df['target'].to_numpy()\n",
    "print(X.shape, Y.shape, df.columns)\n",
    "\n",
    "from sklearn.model_selection import train_test_split\n",
    "X_TEMP,X_test,y_TEMP, y_test = train_test_split(X,Y,test_size = 0.2 , random_state = 1)\n",
    "X_train,X_valid,y_train, y_valid = train_test_split(X_TEMP,y_TEMP,test_size = 0.2 , random_state = 1)"
   ]
  },
  {
   "cell_type": "code",
   "execution_count": 7,
   "metadata": {
    "id": "rQUo-TJjbbH2"
   },
   "outputs": [],
   "source": [
    "from sklearn.preprocessing import StandardScaler\n",
    "sc = StandardScaler()\n",
    "X_train = sc.fit_transform(X_train)\n",
    "X_test = sc.transform(X_test)\n",
    "X_valid = sc.transform(X_valid)"
   ]
  },
  {
   "cell_type": "code",
   "execution_count": 8,
   "metadata": {
    "colab": {
     "base_uri": "https://localhost:8080/"
    },
    "id": "Z19LXYcdb_aD",
    "outputId": "5b08a01f-9851-4d37-edc4-01507244b4d8"
   },
   "outputs": [
    {
     "name": "stdout",
     "output_type": "stream",
     "text": [
      "Shape X_train: (1290, 12)\n",
      "Shape X_test: (404, 12)\n",
      "Shape X_valid: (323, 12)\n",
      "Shape y_train: (1290,)\n",
      "Shape y_test: (404,)\n",
      "Shape y_valid: (323,)\n"
     ]
    },
    {
     "data": {
      "text/plain": [
       "numpy.ndarray"
      ]
     },
     "execution_count": 8,
     "metadata": {},
     "output_type": "execute_result"
    }
   ],
   "source": [
    "print(\"Shape X_train:\",X_train.shape)\n",
    "print(\"Shape X_test:\",X_test.shape)\n",
    "print(\"Shape X_valid:\",X_valid.shape)\n",
    "print(\"Shape y_train:\",y_train.shape)\n",
    "print(\"Shape y_test:\",y_test.shape)\n",
    "print(\"Shape y_valid:\",y_valid.shape)\n",
    "type(X_train)"
   ]
  },
  {
   "cell_type": "code",
   "execution_count": 9,
   "metadata": {
    "colab": {
     "base_uri": "https://localhost:8080/"
    },
    "id": "VNmewHJ9b-SF",
    "outputId": "3fd7c9af-cf68-45a9-a6a1-d3509dbf3f73"
   },
   "outputs": [
    {
     "name": "stdout",
     "output_type": "stream",
     "text": [
      "Model: \"sequential\"\n",
      "_________________________________________________________________\n",
      "Layer (type)                 Output Shape              Param #   \n",
      "=================================================================\n",
      "dense (Dense)                (None, 8)                 104       \n",
      "_________________________________________________________________\n",
      "dropout (Dropout)            (None, 8)                 0         \n",
      "_________________________________________________________________\n",
      "dense_1 (Dense)              (None, 1)                 9         \n",
      "_________________________________________________________________\n",
      "dropout_1 (Dropout)          (None, 1)                 0         \n",
      "=================================================================\n",
      "Total params: 113\n",
      "Trainable params: 113\n",
      "Non-trainable params: 0\n",
      "_________________________________________________________________\n"
     ]
    }
   ],
   "source": [
    "modelo = Sequential()\n",
    "modelo.add(Dense(activation = \"relu\", input_dim = 12, \n",
    "                     units = 8, kernel_initializer = \"uniform\"))\n",
    "modelo.add(Dropout(0.2))\n",
    "modelo.add(Dense(activation = \"sigmoid\", units = 1, \n",
    "                     kernel_initializer = \"uniform\"))\n",
    "modelo.add(Dropout(0.2))\n",
    "modelo.compile(optimizer = 'adam' , loss = 'binary_crossentropy', \n",
    "                   metrics = ['accuracy'] )\n",
    "modelo.summary()"
   ]
  },
  {
   "cell_type": "code",
   "execution_count": 10,
   "metadata": {
    "colab": {
     "base_uri": "https://localhost:8080/"
    },
    "id": "X_cE5ndtcCJZ",
    "outputId": "0540423a-d624-4fdf-b279-2a185d0e23d4"
   },
   "outputs": [
    {
     "name": "stdout",
     "output_type": "stream",
     "text": [
      "Epoch 1/15\n",
      "1/9 [==>...........................] - ETA: 0s - loss: 2.6495 - accuracy: 0.5800\n",
      "Epoch 00001: val_accuracy improved from -inf to 0.43344, saving model to checkpoint_5-2.hdf\n",
      "WARNING:tensorflow:From F:\\Anaconda\\lib\\site-packages\\tensorflow\\python\\training\\tracking\\tracking.py:111: Model.state_updates (from tensorflow.python.keras.engine.training) is deprecated and will be removed in a future version.\n",
      "Instructions for updating:\n",
      "This property should not be used in TensorFlow 2.0, as updates are applied automatically.\n",
      "WARNING:tensorflow:From F:\\Anaconda\\lib\\site-packages\\tensorflow\\python\\training\\tracking\\tracking.py:111: Layer.updates (from tensorflow.python.keras.engine.base_layer) is deprecated and will be removed in a future version.\n",
      "Instructions for updating:\n",
      "This property should not be used in TensorFlow 2.0, as updates are applied automatically.\n",
      "INFO:tensorflow:Assets written to: checkpoint_5-2.hdf\\assets\n",
      "9/9 [==============================] - 1s 138ms/step - loss: 2.1387 - accuracy: 0.5178 - val_loss: 0.6936 - val_accuracy: 0.4334\n",
      "Epoch 2/15\n",
      "1/9 [==>...........................] - ETA: 0s - loss: 1.7077 - accuracy: 0.5400\n",
      "Epoch 00002: val_accuracy improved from 0.43344 to 0.45511, saving model to checkpoint_5-2.hdf\n",
      "INFO:tensorflow:Assets written to: checkpoint_5-2.hdf\\assets\n",
      "9/9 [==============================] - 1s 121ms/step - loss: 1.8880 - accuracy: 0.5171 - val_loss: 0.6930 - val_accuracy: 0.4551\n",
      "Epoch 3/15\n",
      "1/9 [==>...........................] - ETA: 0s - loss: 2.6855 - accuracy: 0.5000\n",
      "Epoch 00003: val_accuracy did not improve from 0.45511\n",
      "9/9 [==============================] - 0s 2ms/step - loss: 2.1529 - accuracy: 0.4984 - val_loss: 0.6922 - val_accuracy: 0.4551\n",
      "Epoch 4/15\n",
      "1/9 [==>...........................] - ETA: 0s - loss: 2.2978 - accuracy: 0.5200\n",
      "Epoch 00004: val_accuracy did not improve from 0.45511\n",
      "9/9 [==============================] - 0s 2ms/step - loss: 2.1943 - accuracy: 0.5093 - val_loss: 0.6908 - val_accuracy: 0.4551\n",
      "Epoch 5/15\n",
      "1/9 [==>...........................] - ETA: 0s - loss: 2.2984 - accuracy: 0.5267\n",
      "Epoch 00005: val_accuracy improved from 0.45511 to 0.46440, saving model to checkpoint_5-2.hdf\n",
      "INFO:tensorflow:Assets written to: checkpoint_5-2.hdf\\assets\n",
      "9/9 [==============================] - 1s 123ms/step - loss: 2.0795 - accuracy: 0.5016 - val_loss: 0.6887 - val_accuracy: 0.4644\n",
      "Epoch 6/15\n",
      "1/9 [==>...........................] - ETA: 0s - loss: 1.8373 - accuracy: 0.5000\n",
      "Epoch 00006: val_accuracy improved from 0.46440 to 0.49226, saving model to checkpoint_5-2.hdf\n",
      "INFO:tensorflow:Assets written to: checkpoint_5-2.hdf\\assets\n",
      "9/9 [==============================] - 1s 118ms/step - loss: 1.8942 - accuracy: 0.5093 - val_loss: 0.6856 - val_accuracy: 0.4923\n",
      "Epoch 7/15\n",
      "1/9 [==>...........................] - ETA: 0s - loss: 1.9641 - accuracy: 0.4267\n",
      "Epoch 00007: val_accuracy improved from 0.49226 to 0.55728, saving model to checkpoint_5-2.hdf\n",
      "INFO:tensorflow:Assets written to: checkpoint_5-2.hdf\\assets\n",
      "9/9 [==============================] - 1s 113ms/step - loss: 2.1437 - accuracy: 0.4814 - val_loss: 0.6814 - val_accuracy: 0.5573\n",
      "Epoch 8/15\n",
      "1/9 [==>...........................] - ETA: 0s - loss: 1.8170 - accuracy: 0.5200\n",
      "Epoch 00008: val_accuracy improved from 0.55728 to 0.61920, saving model to checkpoint_5-2.hdf\n",
      "INFO:tensorflow:Assets written to: checkpoint_5-2.hdf\\assets\n",
      "9/9 [==============================] - 1s 125ms/step - loss: 1.8735 - accuracy: 0.5085 - val_loss: 0.6760 - val_accuracy: 0.6192\n",
      "Epoch 9/15\n",
      "1/9 [==>...........................] - ETA: 0s - loss: 1.9875 - accuracy: 0.5067\n",
      "Epoch 00009: val_accuracy improved from 0.61920 to 0.69040, saving model to checkpoint_5-2.hdf\n",
      "INFO:tensorflow:Assets written to: checkpoint_5-2.hdf\\assets\n",
      "9/9 [==============================] - 1s 118ms/step - loss: 2.1509 - accuracy: 0.4961 - val_loss: 0.6691 - val_accuracy: 0.6904\n",
      "Epoch 10/15\n",
      "1/9 [==>...........................] - ETA: 0s - loss: 2.2743 - accuracy: 0.5067\n",
      "Epoch 00010: val_accuracy improved from 0.69040 to 0.74613, saving model to checkpoint_5-2.hdf\n",
      "INFO:tensorflow:Assets written to: checkpoint_5-2.hdf\\assets\n",
      "9/9 [==============================] - 1s 118ms/step - loss: 2.1226 - accuracy: 0.4953 - val_loss: 0.6611 - val_accuracy: 0.7461\n",
      "Epoch 11/15\n",
      "1/9 [==>...........................] - ETA: 0s - loss: 1.2965 - accuracy: 0.5333\n",
      "Epoch 00011: val_accuracy improved from 0.74613 to 0.78638, saving model to checkpoint_5-2.hdf\n",
      "INFO:tensorflow:Assets written to: checkpoint_5-2.hdf\\assets\n",
      "9/9 [==============================] - 1s 107ms/step - loss: 1.8838 - accuracy: 0.5093 - val_loss: 0.6515 - val_accuracy: 0.7864\n",
      "Epoch 12/15\n",
      "1/9 [==>...........................] - ETA: 0s - loss: 1.5836 - accuracy: 0.5333\n",
      "Epoch 00012: val_accuracy improved from 0.78638 to 0.79257, saving model to checkpoint_5-2.hdf\n",
      "INFO:tensorflow:Assets written to: checkpoint_5-2.hdf\\assets\n",
      "9/9 [==============================] - 1s 111ms/step - loss: 2.0572 - accuracy: 0.5039 - val_loss: 0.6402 - val_accuracy: 0.7926\n",
      "Epoch 13/15\n",
      "1/9 [==>...........................] - ETA: 0s - loss: 2.3789 - accuracy: 0.4800\n",
      "Epoch 00013: val_accuracy improved from 0.79257 to 0.81115, saving model to checkpoint_5-2.hdf\n",
      "INFO:tensorflow:Assets written to: checkpoint_5-2.hdf\\assets\n",
      "9/9 [==============================] - 1s 111ms/step - loss: 2.2244 - accuracy: 0.5031 - val_loss: 0.6283 - val_accuracy: 0.8111\n",
      "Epoch 14/15\n",
      "1/9 [==>...........................] - ETA: 0s - loss: 2.1693 - accuracy: 0.5000\n",
      "Epoch 00014: val_accuracy improved from 0.81115 to 0.83282, saving model to checkpoint_5-2.hdf\n",
      "INFO:tensorflow:Assets written to: checkpoint_5-2.hdf\\assets\n",
      "9/9 [==============================] - 1s 115ms/step - loss: 1.9971 - accuracy: 0.5279 - val_loss: 0.6153 - val_accuracy: 0.8328\n",
      "Epoch 15/15\n",
      "1/9 [==>...........................] - ETA: 0s - loss: 2.2370 - accuracy: 0.5267\n",
      "Epoch 00015: val_accuracy improved from 0.83282 to 0.85139, saving model to checkpoint_5-2.hdf\n",
      "INFO:tensorflow:Assets written to: checkpoint_5-2.hdf\\assets\n",
      "9/9 [==============================] - 1s 112ms/step - loss: 2.0262 - accuracy: 0.5434 - val_loss: 0.6014 - val_accuracy: 0.8514\n"
     ]
    }
   ],
   "source": [
    "# modelo.fit(X_train , y_train ,epochs = 10)\n",
    "checkpointer = ModelCheckpoint(filepath='checkpoint_5-2.hdf', verbose=1,  save_best_only=True, monitor='val_accuracy')\n",
    "\n",
    "hist = modelo.fit(X_train, y_train, batch_size=150, epochs=15, validation_data=(X_valid, y_valid), callbacks=[checkpointer], verbose=1, shuffle=True)"
   ]
  },
  {
   "cell_type": "code",
   "execution_count": 11,
   "metadata": {
    "colab": {
     "base_uri": "https://localhost:8080/"
    },
    "id": "8ZEmVOoScDlp",
    "outputId": "9f2a25aa-3452-495d-bc8a-6d3c47cc1770"
   },
   "outputs": [
    {
     "name": "stdout",
     "output_type": "stream",
     "text": [
      "13/13 [==============================] - 0s 537us/step - loss: 0.6013 - accuracy: 0.8391\n",
      "\n",
      "accuracy: 83.91%\n"
     ]
    }
   ],
   "source": [
    "scores = modelo.evaluate(X_test, y_test)\n",
    "print(\"\\n%s: %.2f%%\" % (modelo.metrics_names[1], scores[1]*100))"
   ]
  },
  {
   "cell_type": "code",
   "execution_count": 12,
   "metadata": {
    "colab": {
     "base_uri": "https://localhost:8080/"
    },
    "id": "Nf71UzLpcTRN",
    "outputId": "a90903bc-1b7b-419a-ae47-e06c70891511"
   },
   "outputs": [
    {
     "name": "stdout",
     "output_type": "stream",
     "text": [
      "41/41 [==============================] - 0s 438us/step - loss: 0.6031 - accuracy: 0.8442\n",
      "\n",
      "accuracy: 84.42%\n"
     ]
    }
   ],
   "source": [
    "scores = modelo.evaluate(X_train, y_train)\n",
    "print(\"\\n%s: %.2f%%\" % (modelo.metrics_names[1], scores[1]*100))"
   ]
  },
  {
   "cell_type": "code",
   "execution_count": 13,
   "metadata": {
    "id": "f-wYHK05hWMb"
   },
   "outputs": [
    {
     "name": "stdout",
     "output_type": "stream",
     "text": [
      "11/11 [==============================] - 0s 544us/step - loss: 0.6014 - accuracy: 0.8514\n",
      "\n",
      "accuracy: 85.14%\n"
     ]
    }
   ],
   "source": [
    "scores = modelo.evaluate(X_valid, y_valid)\n",
    "print(\"\\n%s: %.2f%%\" % (modelo.metrics_names[1], scores[1]*100))"
   ]
  },
  {
   "cell_type": "code",
   "execution_count": null,
   "metadata": {},
   "outputs": [],
   "source": []
  }
 ],
 "metadata": {
  "colab": {
   "name": "Trabalho Final Deep Learning - Exercício 05.1.ipynb",
   "provenance": []
  },
  "interpreter": {
   "hash": "34dfee18d5f4a96df9a8fcc719c91cf50e8ed50de2aa108bf45cd20982063274"
  },
  "kernelspec": {
   "display_name": "Python 3",
   "language": "python",
   "name": "python3"
  },
  "language_info": {
   "codemirror_mode": {
    "name": "ipython",
    "version": 3
   },
   "file_extension": ".py",
   "mimetype": "text/x-python",
   "name": "python",
   "nbconvert_exporter": "python",
   "pygments_lexer": "ipython3",
   "version": "3.8.8"
  }
 },
 "nbformat": 4,
 "nbformat_minor": 2
}
