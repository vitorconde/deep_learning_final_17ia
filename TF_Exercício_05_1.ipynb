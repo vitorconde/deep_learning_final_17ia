{
  "nbformat": 4,
  "nbformat_minor": 0,
  "metadata": {
    "colab": {
      "name": "Trabalho Final Deep Learning - Exercício 05.1.ipynb",
      "provenance": []
    },
    "kernelspec": {
      "name": "python3",
      "display_name": "Python 3"
    },
    "language_info": {
      "name": "python"
    }
  },
  "cells": [
    {
      "cell_type": "code",
      "metadata": {
        "id": "IL4uIJ3BHj5h"
      },
      "source": [
        "# Link Trabalho Final : https://www.dropbox.com/s/3fla2xuc8t9xba2/Deep%20Learning%20-%20Lista%20de%20Exerc%C3%ADcios%20v1.4.pdf?dl=0"
      ],
      "execution_count": null,
      "outputs": []
    },
    {
      "cell_type": "code",
      "metadata": {
        "id": "HfU7ax3LH4MS"
      },
      "source": [
        "from sklearn import datasets\n",
        "import os\n",
        "import tensorflow as tf\n",
        "import numpy as np\n",
        "import pandas as pd\n",
        "import matplotlib.pyplot as plt"
      ],
      "execution_count": null,
      "outputs": []
    },
    {
      "cell_type": "code",
      "metadata": {
        "colab": {
          "base_uri": "https://localhost:8080/"
        },
        "id": "6C20zZ__57wj",
        "outputId": "470cd91e-51aa-46cb-9d86-5bf4c7c52285"
      },
      "source": [
        "from google.colab import drive\n",
        "drive.mount('/content/drive')"
      ],
      "execution_count": null,
      "outputs": [
        {
          "output_type": "stream",
          "text": [
            "Mounted at /content/drive\n"
          ],
          "name": "stdout"
        }
      ]
    },
    {
      "cell_type": "code",
      "metadata": {
        "colab": {
          "base_uri": "https://localhost:8080/"
        },
        "id": "PlXbbADJ58z9",
        "outputId": "29a4cead-0407-416c-df78-81d6ac113500"
      },
      "source": [
        "!ls '/content/drive/MyDrive/__FIAP/MBA - 17IA/Deep Learning & Reinforcement Learning/dados_trabalho_final/DadosSpotify.csv'"
      ],
      "execution_count": null,
      "outputs": [
        {
          "output_type": "stream",
          "text": [
            "'/content/drive/MyDrive/__FIAP/MBA - 17IA/Deep Learning & Reinforcement Learning/dados_trabalho_final/DadosSpotify.csv'\n"
          ],
          "name": "stdout"
        }
      ]
    },
    {
      "cell_type": "code",
      "metadata": {
        "colab": {
          "base_uri": "https://localhost:8080/",
          "height": 224
        },
        "id": "5atbqVkS6DFr",
        "outputId": "71908327-91a3-40dc-f979-a4ff07fd466e"
      },
      "source": [
        "df = pd.read_csv('/content/drive/MyDrive/__FIAP/MBA - 17IA/Deep Learning & Reinforcement Learning/dados_trabalho_final/DadosSpotify.csv')\n",
        "\n",
        "print(df.shape)\n",
        "df.head(5)"
      ],
      "execution_count": null,
      "outputs": [
        {
          "output_type": "stream",
          "text": [
            "(2017, 17)\n"
          ],
          "name": "stdout"
        },
        {
          "output_type": "execute_result",
          "data": {
            "text/html": [
              "<div>\n",
              "<style scoped>\n",
              "    .dataframe tbody tr th:only-of-type {\n",
              "        vertical-align: middle;\n",
              "    }\n",
              "\n",
              "    .dataframe tbody tr th {\n",
              "        vertical-align: top;\n",
              "    }\n",
              "\n",
              "    .dataframe thead th {\n",
              "        text-align: right;\n",
              "    }\n",
              "</style>\n",
              "<table border=\"1\" class=\"dataframe\">\n",
              "  <thead>\n",
              "    <tr style=\"text-align: right;\">\n",
              "      <th></th>\n",
              "      <th>id</th>\n",
              "      <th>acousticness</th>\n",
              "      <th>danceability</th>\n",
              "      <th>duration_ms</th>\n",
              "      <th>energy</th>\n",
              "      <th>instrumentalness</th>\n",
              "      <th>key</th>\n",
              "      <th>liveness</th>\n",
              "      <th>loudness</th>\n",
              "      <th>mode</th>\n",
              "      <th>speechiness</th>\n",
              "      <th>tempo</th>\n",
              "      <th>time_signature</th>\n",
              "      <th>valence</th>\n",
              "      <th>target</th>\n",
              "      <th>song_title</th>\n",
              "      <th>artist</th>\n",
              "    </tr>\n",
              "  </thead>\n",
              "  <tbody>\n",
              "    <tr>\n",
              "      <th>0</th>\n",
              "      <td>0</td>\n",
              "      <td>0.0102</td>\n",
              "      <td>0.833</td>\n",
              "      <td>204600</td>\n",
              "      <td>0.434</td>\n",
              "      <td>0.021900</td>\n",
              "      <td>2</td>\n",
              "      <td>0.1650</td>\n",
              "      <td>-8.795</td>\n",
              "      <td>1</td>\n",
              "      <td>0.4310</td>\n",
              "      <td>150.062</td>\n",
              "      <td>4.0</td>\n",
              "      <td>0.286</td>\n",
              "      <td>1</td>\n",
              "      <td>Mask Off</td>\n",
              "      <td>Future</td>\n",
              "    </tr>\n",
              "    <tr>\n",
              "      <th>1</th>\n",
              "      <td>1</td>\n",
              "      <td>0.1990</td>\n",
              "      <td>0.743</td>\n",
              "      <td>326933</td>\n",
              "      <td>0.359</td>\n",
              "      <td>0.006110</td>\n",
              "      <td>1</td>\n",
              "      <td>0.1370</td>\n",
              "      <td>-10.401</td>\n",
              "      <td>1</td>\n",
              "      <td>0.0794</td>\n",
              "      <td>160.083</td>\n",
              "      <td>4.0</td>\n",
              "      <td>0.588</td>\n",
              "      <td>1</td>\n",
              "      <td>Redbone</td>\n",
              "      <td>Childish Gambino</td>\n",
              "    </tr>\n",
              "    <tr>\n",
              "      <th>2</th>\n",
              "      <td>2</td>\n",
              "      <td>0.0344</td>\n",
              "      <td>0.838</td>\n",
              "      <td>185707</td>\n",
              "      <td>0.412</td>\n",
              "      <td>0.000234</td>\n",
              "      <td>2</td>\n",
              "      <td>0.1590</td>\n",
              "      <td>-7.148</td>\n",
              "      <td>1</td>\n",
              "      <td>0.2890</td>\n",
              "      <td>75.044</td>\n",
              "      <td>4.0</td>\n",
              "      <td>0.173</td>\n",
              "      <td>1</td>\n",
              "      <td>Xanny Family</td>\n",
              "      <td>Future</td>\n",
              "    </tr>\n",
              "    <tr>\n",
              "      <th>3</th>\n",
              "      <td>3</td>\n",
              "      <td>0.6040</td>\n",
              "      <td>0.494</td>\n",
              "      <td>199413</td>\n",
              "      <td>0.338</td>\n",
              "      <td>0.510000</td>\n",
              "      <td>5</td>\n",
              "      <td>0.0922</td>\n",
              "      <td>-15.236</td>\n",
              "      <td>1</td>\n",
              "      <td>0.0261</td>\n",
              "      <td>86.468</td>\n",
              "      <td>4.0</td>\n",
              "      <td>0.230</td>\n",
              "      <td>1</td>\n",
              "      <td>Master Of None</td>\n",
              "      <td>Beach House</td>\n",
              "    </tr>\n",
              "    <tr>\n",
              "      <th>4</th>\n",
              "      <td>4</td>\n",
              "      <td>0.1800</td>\n",
              "      <td>0.678</td>\n",
              "      <td>392893</td>\n",
              "      <td>0.561</td>\n",
              "      <td>0.512000</td>\n",
              "      <td>5</td>\n",
              "      <td>0.4390</td>\n",
              "      <td>-11.648</td>\n",
              "      <td>0</td>\n",
              "      <td>0.0694</td>\n",
              "      <td>174.004</td>\n",
              "      <td>4.0</td>\n",
              "      <td>0.904</td>\n",
              "      <td>1</td>\n",
              "      <td>Parallel Lines</td>\n",
              "      <td>Junior Boys</td>\n",
              "    </tr>\n",
              "  </tbody>\n",
              "</table>\n",
              "</div>"
            ],
            "text/plain": [
              "   id  acousticness  danceability  ...  target      song_title            artist\n",
              "0   0        0.0102         0.833  ...       1        Mask Off            Future\n",
              "1   1        0.1990         0.743  ...       1         Redbone  Childish Gambino\n",
              "2   2        0.0344         0.838  ...       1    Xanny Family            Future\n",
              "3   3        0.6040         0.494  ...       1  Master Of None       Beach House\n",
              "4   4        0.1800         0.678  ...       1  Parallel Lines       Junior Boys\n",
              "\n",
              "[5 rows x 17 columns]"
            ]
          },
          "metadata": {
            "tags": []
          },
          "execution_count": 4
        }
      ]
    },
    {
      "cell_type": "code",
      "metadata": {
        "colab": {
          "base_uri": "https://localhost:8080/"
        },
        "id": "uouIGEHKbb0F",
        "outputId": "66b82d2f-dcd6-44b6-ef35-b33ad261936d"
      },
      "source": [
        "df.target.value_counts()"
      ],
      "execution_count": null,
      "outputs": [
        {
          "output_type": "execute_result",
          "data": {
            "text/plain": [
              "1    1020\n",
              "0     997\n",
              "Name: target, dtype: int64"
            ]
          },
          "metadata": {
            "tags": []
          },
          "execution_count": 7
        }
      ]
    },
    {
      "cell_type": "code",
      "metadata": {
        "id": "ja11bfB36EU3"
      },
      "source": [
        "import keras\n",
        "from keras.models import Sequential,load_model\n",
        "from keras.layers import Conv2D, MaxPooling2D, Flatten, Dense, Dropout, AveragePooling2D\n",
        "from keras.utils import np_utils\n",
        "#from keras.utils import plot_model\n",
        "from keras.utils.vis_utils import plot_model\n",
        "from keras.utils.np_utils import  to_categorical"
      ],
      "execution_count": null,
      "outputs": []
    },
    {
      "cell_type": "code",
      "metadata": {
        "colab": {
          "base_uri": "https://localhost:8080/"
        },
        "id": "ySFdkrc6aWC1",
        "outputId": "add36a33-172f-4938-8248-cbfd9572b1b6"
      },
      "source": [
        "# Separando dados em X e Y\n",
        "X= df.drop(['target','song_title','artist','key','mode'],axis=1).to_numpy()\n",
        "Y= df['target'].to_numpy()\n",
        "print(X.shape, Y.shape, df.columns)\n",
        "\n",
        "from sklearn.model_selection import train_test_split\n",
        "\n",
        "X_TEMP,X_test,y_TEMP, y_test = train_test_split(X,Y,test_size = 0.2 , random_state = 42 )"
      ],
      "execution_count": null,
      "outputs": [
        {
          "output_type": "stream",
          "text": [
            "(2017, 12) (2017,) Index(['id', 'acousticness', 'danceability', 'duration_ms', 'energy',\n",
            "       'instrumentalness', 'key', 'liveness', 'loudness', 'mode',\n",
            "       'speechiness', 'tempo', 'time_signature', 'valence', 'target',\n",
            "       'song_title', 'artist'],\n",
            "      dtype='object')\n"
          ],
          "name": "stdout"
        }
      ]
    },
    {
      "cell_type": "code",
      "metadata": {
        "id": "rQUo-TJjbbH2"
      },
      "source": [
        "from sklearn.preprocessing import StandardScaler\n",
        "sc = StandardScaler()\n",
        "X_train = sc.fit_transform(X_train)\n",
        "X_test = sc.transform(X_test)"
      ],
      "execution_count": null,
      "outputs": []
    },
    {
      "cell_type": "code",
      "metadata": {
        "colab": {
          "base_uri": "https://localhost:8080/"
        },
        "id": "Z19LXYcdb_aD",
        "outputId": "5b08a01f-9851-4d37-edc4-01507244b4d8"
      },
      "source": [
        "print(\"Shape X_train:\",X_train.shape)\n",
        "print(\"Shape X_test:\",X_test.shape)\n",
        "print(\"Shape y_train:\",y_train.shape)\n",
        "print(\"Shape y_test:\",y_test.shape)\n",
        "type(X_train)"
      ],
      "execution_count": null,
      "outputs": [
        {
          "output_type": "stream",
          "text": [
            "Shape X_train: (1613, 12)\n",
            "Shape X_test: (404, 12)\n",
            "Shape y_train: (1613,)\n",
            "Shape y_test: (404,)\n"
          ],
          "name": "stdout"
        },
        {
          "output_type": "execute_result",
          "data": {
            "text/plain": [
              "numpy.ndarray"
            ]
          },
          "metadata": {
            "tags": []
          },
          "execution_count": 46
        }
      ]
    },
    {
      "cell_type": "code",
      "metadata": {
        "colab": {
          "base_uri": "https://localhost:8080/"
        },
        "id": "VNmewHJ9b-SF",
        "outputId": "3fd7c9af-cf68-45a9-a6a1-d3509dbf3f73"
      },
      "source": [
        "modelo = Sequential()\n",
        "modelo.add(Dense(activation = \"relu\", input_dim = 12, \n",
        "                     units = 8, kernel_initializer = \"uniform\"))\n",
        "modelo.add(Dense(activation = \"sigmoid\", units = 1, \n",
        "                     kernel_initializer = \"uniform\"))\n",
        "modelo.compile(optimizer = 'adam' , loss = 'binary_crossentropy', \n",
        "                   metrics = ['accuracy'] )\n",
        "modelo.summary()"
      ],
      "execution_count": null,
      "outputs": [
        {
          "output_type": "stream",
          "text": [
            "Model: \"sequential_8\"\n",
            "_________________________________________________________________\n",
            "Layer (type)                 Output Shape              Param #   \n",
            "=================================================================\n",
            "dense_18 (Dense)             (None, 8)                 104       \n",
            "_________________________________________________________________\n",
            "dense_19 (Dense)             (None, 1)                 9         \n",
            "=================================================================\n",
            "Total params: 113\n",
            "Trainable params: 113\n",
            "Non-trainable params: 0\n",
            "_________________________________________________________________\n"
          ],
          "name": "stdout"
        }
      ]
    },
    {
      "cell_type": "code",
      "metadata": {
        "colab": {
          "base_uri": "https://localhost:8080/"
        },
        "id": "X_cE5ndtcCJZ",
        "outputId": "0540423a-d624-4fdf-b279-2a185d0e23d4"
      },
      "source": [
        "modelo.fit(X_train , y_train ,epochs = 10)"
      ],
      "execution_count": null,
      "outputs": [
        {
          "output_type": "stream",
          "text": [
            "Epoch 1/10\n",
            "51/51 [==============================] - 1s 1ms/step - loss: 0.6910 - accuracy: 0.7434\n",
            "Epoch 2/10\n",
            "51/51 [==============================] - 0s 1ms/step - loss: 0.6709 - accuracy: 0.8807\n",
            "Epoch 3/10\n",
            "51/51 [==============================] - 0s 1ms/step - loss: 0.6155 - accuracy: 0.8740\n",
            "Epoch 4/10\n",
            "51/51 [==============================] - 0s 1ms/step - loss: 0.5302 - accuracy: 0.8893\n",
            "Epoch 5/10\n",
            "51/51 [==============================] - 0s 1ms/step - loss: 0.4363 - accuracy: 0.9058\n",
            "Epoch 6/10\n",
            "51/51 [==============================] - 0s 2ms/step - loss: 0.3725 - accuracy: 0.9075\n",
            "Epoch 7/10\n",
            "51/51 [==============================] - 0s 1ms/step - loss: 0.3011 - accuracy: 0.9435\n",
            "Epoch 8/10\n",
            "51/51 [==============================] - 0s 1ms/step - loss: 0.2494 - accuracy: 0.9577\n",
            "Epoch 9/10\n",
            "51/51 [==============================] - 0s 1ms/step - loss: 0.2151 - accuracy: 0.9597\n",
            "Epoch 10/10\n",
            "51/51 [==============================] - 0s 1ms/step - loss: 0.1791 - accuracy: 0.9730\n"
          ],
          "name": "stdout"
        },
        {
          "output_type": "execute_result",
          "data": {
            "text/plain": [
              "<keras.callbacks.History at 0x7ff41b9da310>"
            ]
          },
          "metadata": {
            "tags": []
          },
          "execution_count": 48
        }
      ]
    },
    {
      "cell_type": "code",
      "metadata": {
        "colab": {
          "base_uri": "https://localhost:8080/"
        },
        "id": "8ZEmVOoScDlp",
        "outputId": "9f2a25aa-3452-495d-bc8a-6d3c47cc1770"
      },
      "source": [
        "scores = modelo.evaluate(X_test, y_test)\n",
        "print(\"\\n%s: %.2f%%\" % (modelo.metrics_names[1], scores[1]*100))"
      ],
      "execution_count": null,
      "outputs": [
        {
          "output_type": "stream",
          "text": [
            "13/13 [==============================] - 0s 1ms/step - loss: 0.1547 - accuracy: 0.9827\n",
            "\n",
            "accuracy: 98.27%\n"
          ],
          "name": "stdout"
        }
      ]
    },
    {
      "cell_type": "code",
      "metadata": {
        "colab": {
          "base_uri": "https://localhost:8080/"
        },
        "id": "Nf71UzLpcTRN",
        "outputId": "a90903bc-1b7b-419a-ae47-e06c70891511"
      },
      "source": [
        "scores = modelo.evaluate(X_train, y_train)\n",
        "print(\"\\n%s: %.2f%%\" % (modelo.metrics_names[1], scores[1]*100))"
      ],
      "execution_count": null,
      "outputs": [
        {
          "output_type": "stream",
          "text": [
            "51/51 [==============================] - 0s 866us/step - loss: 0.1646 - accuracy: 0.9752\n",
            "\n",
            "accuracy: 97.52%\n"
          ],
          "name": "stdout"
        }
      ]
    },
    {
      "cell_type": "code",
      "metadata": {
        "id": "f-wYHK05hWMb"
      },
      "source": [
        ""
      ],
      "execution_count": null,
      "outputs": []
    }
  ]
}