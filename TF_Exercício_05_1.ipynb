{
 "cells": [
  {
   "cell_type": "code",
   "execution_count": 1,
   "source": [
    "# Link Trabalho Final : https://www.dropbox.com/s/3fla2xuc8t9xba2/Deep%20Learning%20-%20Lista%20de%20Exerc%C3%ADcios%20v1.4.pdf?dl=0"
   ],
   "outputs": [],
   "metadata": {
    "id": "IL4uIJ3BHj5h"
   }
  },
  {
   "cell_type": "code",
   "execution_count": 2,
   "source": [
    "from sklearn import datasets\r\n",
    "import os\r\n",
    "import tensorflow as tf\r\n",
    "import numpy as np\r\n",
    "import pandas as pd\r\n",
    "import matplotlib.pyplot as plt\r\n",
    "import keras\r\n",
    "from keras.models import Sequential,load_model\r\n",
    "from keras.layers import Conv2D, MaxPooling2D, Flatten, Dense, Dropout, AveragePooling2D\r\n",
    "from keras.utils import np_utils\r\n",
    "#from keras.utils import plot_model\r\n",
    "from keras.utils.vis_utils import plot_model\r\n",
    "from keras.utils.np_utils import  to_categorical\r\n",
    "from keras.callbacks import ModelCheckpoint   "
   ],
   "outputs": [],
   "metadata": {
    "id": "HfU7ax3LH4MS"
   }
  },
  {
   "cell_type": "code",
   "execution_count": 3,
   "source": [
    "# from google.colab import drive\r\n",
    "# drive.mount('/content/drive')\r\n",
    "file_path = 'D:\\__Projetos_\\_MBA\\DeepLearning\\deep_learning_final_17ia\\dados\\DadosSpotify.csv'\r\n",
    "\r\n",
    "if os.path.exists(file_path) :\r\n",
    "    print(\"Arquivo Existe\")"
   ],
   "outputs": [
    {
     "output_type": "stream",
     "name": "stdout",
     "text": [
      "Arquivo Existe\n"
     ]
    }
   ],
   "metadata": {
    "colab": {
     "base_uri": "https://localhost:8080/",
     "height": 224
    },
    "id": "5atbqVkS6DFr",
    "outputId": "71908327-91a3-40dc-f979-a4ff07fd466e"
   }
  },
  {
   "cell_type": "code",
   "execution_count": 4,
   "source": [
    "df = pd.read_csv(file_path)\r\n",
    "\r\n",
    "print(df.shape)\r\n",
    "df.head(5)"
   ],
   "outputs": [
    {
     "output_type": "stream",
     "name": "stdout",
     "text": [
      "(2017, 17)\n"
     ]
    },
    {
     "output_type": "execute_result",
     "data": {
      "text/plain": [
       "   id  acousticness  danceability  duration_ms  energy  instrumentalness  key  \\\n",
       "0   0        0.0102         0.833       204600   0.434          0.021900    2   \n",
       "1   1        0.1990         0.743       326933   0.359          0.006110    1   \n",
       "2   2        0.0344         0.838       185707   0.412          0.000234    2   \n",
       "3   3        0.6040         0.494       199413   0.338          0.510000    5   \n",
       "4   4        0.1800         0.678       392893   0.561          0.512000    5   \n",
       "\n",
       "   liveness  loudness  mode  speechiness    tempo  time_signature  valence  \\\n",
       "0    0.1650    -8.795     1       0.4310  150.062             4.0    0.286   \n",
       "1    0.1370   -10.401     1       0.0794  160.083             4.0    0.588   \n",
       "2    0.1590    -7.148     1       0.2890   75.044             4.0    0.173   \n",
       "3    0.0922   -15.236     1       0.0261   86.468             4.0    0.230   \n",
       "4    0.4390   -11.648     0       0.0694  174.004             4.0    0.904   \n",
       "\n",
       "   target      song_title            artist  \n",
       "0       1        Mask Off            Future  \n",
       "1       1         Redbone  Childish Gambino  \n",
       "2       1    Xanny Family            Future  \n",
       "3       1  Master Of None       Beach House  \n",
       "4       1  Parallel Lines       Junior Boys  "
      ],
      "text/html": [
       "<div>\n",
       "<style scoped>\n",
       "    .dataframe tbody tr th:only-of-type {\n",
       "        vertical-align: middle;\n",
       "    }\n",
       "\n",
       "    .dataframe tbody tr th {\n",
       "        vertical-align: top;\n",
       "    }\n",
       "\n",
       "    .dataframe thead th {\n",
       "        text-align: right;\n",
       "    }\n",
       "</style>\n",
       "<table border=\"1\" class=\"dataframe\">\n",
       "  <thead>\n",
       "    <tr style=\"text-align: right;\">\n",
       "      <th></th>\n",
       "      <th>id</th>\n",
       "      <th>acousticness</th>\n",
       "      <th>danceability</th>\n",
       "      <th>duration_ms</th>\n",
       "      <th>energy</th>\n",
       "      <th>instrumentalness</th>\n",
       "      <th>key</th>\n",
       "      <th>liveness</th>\n",
       "      <th>loudness</th>\n",
       "      <th>mode</th>\n",
       "      <th>speechiness</th>\n",
       "      <th>tempo</th>\n",
       "      <th>time_signature</th>\n",
       "      <th>valence</th>\n",
       "      <th>target</th>\n",
       "      <th>song_title</th>\n",
       "      <th>artist</th>\n",
       "    </tr>\n",
       "  </thead>\n",
       "  <tbody>\n",
       "    <tr>\n",
       "      <th>0</th>\n",
       "      <td>0</td>\n",
       "      <td>0.0102</td>\n",
       "      <td>0.833</td>\n",
       "      <td>204600</td>\n",
       "      <td>0.434</td>\n",
       "      <td>0.021900</td>\n",
       "      <td>2</td>\n",
       "      <td>0.1650</td>\n",
       "      <td>-8.795</td>\n",
       "      <td>1</td>\n",
       "      <td>0.4310</td>\n",
       "      <td>150.062</td>\n",
       "      <td>4.0</td>\n",
       "      <td>0.286</td>\n",
       "      <td>1</td>\n",
       "      <td>Mask Off</td>\n",
       "      <td>Future</td>\n",
       "    </tr>\n",
       "    <tr>\n",
       "      <th>1</th>\n",
       "      <td>1</td>\n",
       "      <td>0.1990</td>\n",
       "      <td>0.743</td>\n",
       "      <td>326933</td>\n",
       "      <td>0.359</td>\n",
       "      <td>0.006110</td>\n",
       "      <td>1</td>\n",
       "      <td>0.1370</td>\n",
       "      <td>-10.401</td>\n",
       "      <td>1</td>\n",
       "      <td>0.0794</td>\n",
       "      <td>160.083</td>\n",
       "      <td>4.0</td>\n",
       "      <td>0.588</td>\n",
       "      <td>1</td>\n",
       "      <td>Redbone</td>\n",
       "      <td>Childish Gambino</td>\n",
       "    </tr>\n",
       "    <tr>\n",
       "      <th>2</th>\n",
       "      <td>2</td>\n",
       "      <td>0.0344</td>\n",
       "      <td>0.838</td>\n",
       "      <td>185707</td>\n",
       "      <td>0.412</td>\n",
       "      <td>0.000234</td>\n",
       "      <td>2</td>\n",
       "      <td>0.1590</td>\n",
       "      <td>-7.148</td>\n",
       "      <td>1</td>\n",
       "      <td>0.2890</td>\n",
       "      <td>75.044</td>\n",
       "      <td>4.0</td>\n",
       "      <td>0.173</td>\n",
       "      <td>1</td>\n",
       "      <td>Xanny Family</td>\n",
       "      <td>Future</td>\n",
       "    </tr>\n",
       "    <tr>\n",
       "      <th>3</th>\n",
       "      <td>3</td>\n",
       "      <td>0.6040</td>\n",
       "      <td>0.494</td>\n",
       "      <td>199413</td>\n",
       "      <td>0.338</td>\n",
       "      <td>0.510000</td>\n",
       "      <td>5</td>\n",
       "      <td>0.0922</td>\n",
       "      <td>-15.236</td>\n",
       "      <td>1</td>\n",
       "      <td>0.0261</td>\n",
       "      <td>86.468</td>\n",
       "      <td>4.0</td>\n",
       "      <td>0.230</td>\n",
       "      <td>1</td>\n",
       "      <td>Master Of None</td>\n",
       "      <td>Beach House</td>\n",
       "    </tr>\n",
       "    <tr>\n",
       "      <th>4</th>\n",
       "      <td>4</td>\n",
       "      <td>0.1800</td>\n",
       "      <td>0.678</td>\n",
       "      <td>392893</td>\n",
       "      <td>0.561</td>\n",
       "      <td>0.512000</td>\n",
       "      <td>5</td>\n",
       "      <td>0.4390</td>\n",
       "      <td>-11.648</td>\n",
       "      <td>0</td>\n",
       "      <td>0.0694</td>\n",
       "      <td>174.004</td>\n",
       "      <td>4.0</td>\n",
       "      <td>0.904</td>\n",
       "      <td>1</td>\n",
       "      <td>Parallel Lines</td>\n",
       "      <td>Junior Boys</td>\n",
       "    </tr>\n",
       "  </tbody>\n",
       "</table>\n",
       "</div>"
      ]
     },
     "metadata": {},
     "execution_count": 4
    }
   ],
   "metadata": {}
  },
  {
   "cell_type": "code",
   "execution_count": 5,
   "source": [
    "df.target.value_counts()"
   ],
   "outputs": [
    {
     "output_type": "execute_result",
     "data": {
      "text/plain": [
       "1    1020\n",
       "0     997\n",
       "Name: target, dtype: int64"
      ]
     },
     "metadata": {},
     "execution_count": 5
    }
   ],
   "metadata": {
    "colab": {
     "base_uri": "https://localhost:8080/"
    },
    "id": "uouIGEHKbb0F",
    "outputId": "66b82d2f-dcd6-44b6-ef35-b33ad261936d"
   }
  },
  {
   "cell_type": "code",
   "execution_count": 6,
   "source": [
    "# Separando dados em X e Y\r\n",
    "X= df.drop(['target','song_title','artist','key','mode'],axis=1).to_numpy()\r\n",
    "Y= df['target'].to_numpy()\r\n",
    "print(X.shape, Y.shape, df.columns)\r\n",
    "\r\n",
    "from sklearn.model_selection import train_test_split\r\n",
    "X_TEMP,X_test,y_TEMP, y_test = train_test_split(X,Y,test_size = 0.2 , random_state = 1)\r\n",
    "X_train,X_valid,y_train, y_valid = train_test_split(X_TEMP,y_TEMP,test_size = 0.2 , random_state = 1)"
   ],
   "outputs": [
    {
     "output_type": "stream",
     "name": "stdout",
     "text": [
      "(2017, 12) (2017,) Index(['id', 'acousticness', 'danceability', 'duration_ms', 'energy',\n",
      "       'instrumentalness', 'key', 'liveness', 'loudness', 'mode',\n",
      "       'speechiness', 'tempo', 'time_signature', 'valence', 'target',\n",
      "       'song_title', 'artist'],\n",
      "      dtype='object')\n"
     ]
    }
   ],
   "metadata": {
    "colab": {
     "base_uri": "https://localhost:8080/"
    },
    "id": "ySFdkrc6aWC1",
    "outputId": "add36a33-172f-4938-8248-cbfd9572b1b6"
   }
  },
  {
   "cell_type": "code",
   "execution_count": 7,
   "source": [
    "from sklearn.preprocessing import StandardScaler\r\n",
    "sc = StandardScaler()\r\n",
    "X_train = sc.fit_transform(X_train)\r\n",
    "X_test = sc.transform(X_test)\r\n",
    "X_valid = sc.transform(X_valid)"
   ],
   "outputs": [],
   "metadata": {
    "id": "rQUo-TJjbbH2"
   }
  },
  {
   "cell_type": "code",
   "execution_count": 8,
   "source": [
    "print(\"Shape X_train:\",X_train.shape)\r\n",
    "print(\"Shape X_test:\",X_test.shape)\r\n",
    "print(\"Shape X_valid:\",X_valid.shape)\r\n",
    "print(\"Shape y_train:\",y_train.shape)\r\n",
    "print(\"Shape y_test:\",y_test.shape)\r\n",
    "print(\"Shape y_valid:\",y_valid.shape)\r\n",
    "type(X_train)"
   ],
   "outputs": [
    {
     "output_type": "stream",
     "name": "stdout",
     "text": [
      "Shape X_train: (1290, 12)\n",
      "Shape X_test: (404, 12)\n",
      "Shape X_valid: (323, 12)\n",
      "Shape y_train: (1290,)\n",
      "Shape y_test: (404,)\n",
      "Shape y_valid: (323,)\n"
     ]
    },
    {
     "output_type": "execute_result",
     "data": {
      "text/plain": [
       "numpy.ndarray"
      ]
     },
     "metadata": {},
     "execution_count": 8
    }
   ],
   "metadata": {
    "colab": {
     "base_uri": "https://localhost:8080/"
    },
    "id": "Z19LXYcdb_aD",
    "outputId": "5b08a01f-9851-4d37-edc4-01507244b4d8"
   }
  },
  {
   "cell_type": "code",
   "execution_count": 9,
   "source": [
    "modelo = Sequential()\r\n",
    "modelo.add(Dense(activation = \"relu\", input_dim = 12, \r\n",
    "                     units = 8, kernel_initializer = \"uniform\"))\r\n",
    "modelo.add(Dropout(0.2))\r\n",
    "modelo.add(Dense(activation = \"sigmoid\", units = 1, \r\n",
    "                     kernel_initializer = \"uniform\"))\r\n",
    "modelo.add(Dropout(0.2))\r\n",
    "modelo.compile(optimizer = 'adam' , loss = 'binary_crossentropy', \r\n",
    "                   metrics = ['accuracy'] )\r\n",
    "modelo.summary()"
   ],
   "outputs": [
    {
     "output_type": "stream",
     "name": "stdout",
     "text": [
      "Model: \"sequential\"\n",
      "_________________________________________________________________\n",
      "Layer (type)                 Output Shape              Param #   \n",
      "=================================================================\n",
      "dense (Dense)                (None, 8)                 104       \n",
      "_________________________________________________________________\n",
      "dropout (Dropout)            (None, 8)                 0         \n",
      "_________________________________________________________________\n",
      "dense_1 (Dense)              (None, 1)                 9         \n",
      "_________________________________________________________________\n",
      "dropout_1 (Dropout)          (None, 1)                 0         \n",
      "=================================================================\n",
      "Total params: 113\n",
      "Trainable params: 113\n",
      "Non-trainable params: 0\n",
      "_________________________________________________________________\n"
     ]
    }
   ],
   "metadata": {
    "colab": {
     "base_uri": "https://localhost:8080/"
    },
    "id": "VNmewHJ9b-SF",
    "outputId": "3fd7c9af-cf68-45a9-a6a1-d3509dbf3f73"
   }
  },
  {
   "cell_type": "code",
   "execution_count": 10,
   "source": [
    "# modelo.fit(X_train , y_train ,epochs = 10)\r\n",
    "checkpointer = ModelCheckpoint(filepath='checkpoint_5-2.hdf', verbose=1,  save_best_only=True, monitor='val_accuracy')\r\n",
    "\r\n",
    "hist = modelo.fit(X_train, y_train, batch_size=150, epochs=15, validation_data=(X_valid, y_valid), callbacks=[checkpointer], verbose=1, shuffle=True)"
   ],
   "outputs": [
    {
     "output_type": "stream",
     "name": "stdout",
     "text": [
      "Epoch 1/15\n",
      "1/9 [==>...........................] - ETA: 0s - loss: 2.2210 - accuracy: 0.5000\n",
      "Epoch 00001: val_accuracy improved from -inf to 0.47988, saving model to checkpoint_5-2.hdf\n",
      "WARNING:tensorflow:From F:\\Anaconda\\lib\\site-packages\\tensorflow\\python\\training\\tracking\\tracking.py:111: Model.state_updates (from tensorflow.python.keras.engine.training) is deprecated and will be removed in a future version.\n",
      "Instructions for updating:\n",
      "This property should not be used in TensorFlow 2.0, as updates are applied automatically.\n",
      "WARNING:tensorflow:From F:\\Anaconda\\lib\\site-packages\\tensorflow\\python\\training\\tracking\\tracking.py:111: Layer.updates (from tensorflow.python.keras.engine.base_layer) is deprecated and will be removed in a future version.\n",
      "Instructions for updating:\n",
      "This property should not be used in TensorFlow 2.0, as updates are applied automatically.\n",
      "INFO:tensorflow:Assets written to: checkpoint_5-2.hdf\\assets\n",
      "9/9 [==============================] - 1s 125ms/step - loss: 2.2949 - accuracy: 0.4907 - val_loss: 0.6933 - val_accuracy: 0.4799\n",
      "Epoch 2/15\n",
      "1/9 [==>...........................] - ETA: 0s - loss: 2.2349 - accuracy: 0.4667\n",
      "Epoch 00002: val_accuracy did not improve from 0.47988\n",
      "9/9 [==============================] - 0s 2ms/step - loss: 1.9569 - accuracy: 0.5240 - val_loss: 0.6929 - val_accuracy: 0.4520\n",
      "Epoch 3/15\n",
      "1/9 [==>...........................] - ETA: 0s - loss: 2.3291 - accuracy: 0.4467\n",
      "Epoch 00003: val_accuracy did not improve from 0.47988\n",
      "9/9 [==============================] - 0s 2ms/step - loss: 2.2539 - accuracy: 0.4837 - val_loss: 0.6924 - val_accuracy: 0.4551\n",
      "Epoch 4/15\n",
      "1/9 [==>...........................] - ETA: 0s - loss: 1.9280 - accuracy: 0.5067\n",
      "Epoch 00004: val_accuracy did not improve from 0.47988\n",
      "9/9 [==============================] - 0s 2ms/step - loss: 2.0515 - accuracy: 0.5000 - val_loss: 0.6915 - val_accuracy: 0.4551\n",
      "Epoch 5/15\n",
      "1/9 [==>...........................] - ETA: 0s - loss: 2.3233 - accuracy: 0.4467\n",
      "Epoch 00005: val_accuracy did not improve from 0.47988\n",
      "9/9 [==============================] - 0s 3ms/step - loss: 2.1837 - accuracy: 0.4953 - val_loss: 0.6901 - val_accuracy: 0.4551\n",
      "Epoch 6/15\n",
      "1/9 [==>...........................] - ETA: 0s - loss: 3.0815 - accuracy: 0.4867\n",
      "Epoch 00006: val_accuracy did not improve from 0.47988\n",
      "9/9 [==============================] - 0s 2ms/step - loss: 2.2345 - accuracy: 0.4953 - val_loss: 0.6878 - val_accuracy: 0.4613\n",
      "Epoch 7/15\n",
      "1/9 [==>...........................] - ETA: 0s - loss: 1.5059 - accuracy: 0.5400\n",
      "Epoch 00007: val_accuracy did not improve from 0.47988\n",
      "9/9 [==============================] - 0s 2ms/step - loss: 2.2136 - accuracy: 0.4783 - val_loss: 0.6846 - val_accuracy: 0.4737\n",
      "Epoch 8/15\n",
      "1/9 [==>...........................] - ETA: 0s - loss: 2.1665 - accuracy: 0.5267\n",
      "Epoch 00008: val_accuracy improved from 0.47988 to 0.50774, saving model to checkpoint_5-2.hdf\n",
      "INFO:tensorflow:Assets written to: checkpoint_5-2.hdf\\assets\n",
      "9/9 [==============================] - 1s 120ms/step - loss: 2.0977 - accuracy: 0.5039 - val_loss: 0.6801 - val_accuracy: 0.5077\n",
      "Epoch 9/15\n",
      "1/9 [==>...........................] - ETA: 0s - loss: 2.1946 - accuracy: 0.5200\n",
      "Epoch 00009: val_accuracy improved from 0.50774 to 0.56037, saving model to checkpoint_5-2.hdf\n",
      "INFO:tensorflow:Assets written to: checkpoint_5-2.hdf\\assets\n",
      "9/9 [==============================] - 1s 135ms/step - loss: 2.2977 - accuracy: 0.4915 - val_loss: 0.6743 - val_accuracy: 0.5604\n",
      "Epoch 10/15\n",
      "1/9 [==>...........................] - ETA: 0s - loss: 2.2922 - accuracy: 0.5133\n",
      "Epoch 00010: val_accuracy improved from 0.56037 to 0.61610, saving model to checkpoint_5-2.hdf\n",
      "INFO:tensorflow:Assets written to: checkpoint_5-2.hdf\\assets\n",
      "9/9 [==============================] - 1s 106ms/step - loss: 2.1353 - accuracy: 0.4938 - val_loss: 0.6673 - val_accuracy: 0.6161\n",
      "Epoch 11/15\n",
      "1/9 [==>...........................] - ETA: 0s - loss: 1.7655 - accuracy: 0.5267\n",
      "Epoch 00011: val_accuracy improved from 0.61610 to 0.67802, saving model to checkpoint_5-2.hdf\n",
      "INFO:tensorflow:Assets written to: checkpoint_5-2.hdf\\assets\n",
      "9/9 [==============================] - 1s 125ms/step - loss: 1.8892 - accuracy: 0.5295 - val_loss: 0.6588 - val_accuracy: 0.6780\n",
      "Epoch 12/15\n",
      "1/9 [==>...........................] - ETA: 0s - loss: 1.8742 - accuracy: 0.4533\n",
      "Epoch 00012: val_accuracy improved from 0.67802 to 0.73684, saving model to checkpoint_5-2.hdf\n",
      "INFO:tensorflow:Assets written to: checkpoint_5-2.hdf\\assets\n",
      "9/9 [==============================] - 1s 110ms/step - loss: 1.9245 - accuracy: 0.5140 - val_loss: 0.6487 - val_accuracy: 0.7368\n",
      "Epoch 13/15\n",
      "1/9 [==>...........................] - ETA: 0s - loss: 1.2515 - accuracy: 0.5400\n",
      "Epoch 00013: val_accuracy improved from 0.73684 to 0.77090, saving model to checkpoint_5-2.hdf\n",
      "INFO:tensorflow:Assets written to: checkpoint_5-2.hdf\\assets\n",
      "9/9 [==============================] - 1s 117ms/step - loss: 2.1642 - accuracy: 0.4953 - val_loss: 0.6371 - val_accuracy: 0.7709\n",
      "Epoch 14/15\n",
      "1/9 [==>...........................] - ETA: 0s - loss: 2.1634 - accuracy: 0.5000\n",
      "Epoch 00014: val_accuracy improved from 0.77090 to 0.78947, saving model to checkpoint_5-2.hdf\n",
      "INFO:tensorflow:Assets written to: checkpoint_5-2.hdf\\assets\n",
      "9/9 [==============================] - 1s 115ms/step - loss: 2.1110 - accuracy: 0.5512 - val_loss: 0.6247 - val_accuracy: 0.7895\n",
      "Epoch 15/15\n",
      "1/9 [==>...........................] - ETA: 0s - loss: 2.3423 - accuracy: 0.5200\n",
      "Epoch 00015: val_accuracy improved from 0.78947 to 0.80805, saving model to checkpoint_5-2.hdf\n",
      "INFO:tensorflow:Assets written to: checkpoint_5-2.hdf\\assets\n",
      "9/9 [==============================] - 1s 104ms/step - loss: 2.2170 - accuracy: 0.5791 - val_loss: 0.6116 - val_accuracy: 0.8080\n"
     ]
    }
   ],
   "metadata": {
    "colab": {
     "base_uri": "https://localhost:8080/"
    },
    "id": "X_cE5ndtcCJZ",
    "outputId": "0540423a-d624-4fdf-b279-2a185d0e23d4"
   }
  },
  {
   "cell_type": "code",
   "execution_count": 11,
   "source": [
    "scores = modelo.evaluate(X_test, y_test)\r\n",
    "print(\"\\n%s: %.2f%%\" % (modelo.metrics_names[1], scores[1]*100))"
   ],
   "outputs": [
    {
     "output_type": "stream",
     "name": "stdout",
     "text": [
      "13/13 [==============================] - 0s 461us/step - loss: 0.6052 - accuracy: 0.8119\n",
      "\n",
      "accuracy: 81.19%\n"
     ]
    }
   ],
   "metadata": {
    "colab": {
     "base_uri": "https://localhost:8080/"
    },
    "id": "8ZEmVOoScDlp",
    "outputId": "9f2a25aa-3452-495d-bc8a-6d3c47cc1770"
   }
  },
  {
   "cell_type": "code",
   "execution_count": 12,
   "source": [
    "scores = modelo.evaluate(X_train, y_train)\r\n",
    "print(\"\\n%s: %.2f%%\" % (modelo.metrics_names[1], scores[1]*100))"
   ],
   "outputs": [
    {
     "output_type": "stream",
     "name": "stdout",
     "text": [
      "41/41 [==============================] - 0s 414us/step - loss: 0.6085 - accuracy: 0.8023\n",
      "\n",
      "accuracy: 80.23%\n"
     ]
    }
   ],
   "metadata": {
    "colab": {
     "base_uri": "https://localhost:8080/"
    },
    "id": "Nf71UzLpcTRN",
    "outputId": "a90903bc-1b7b-419a-ae47-e06c70891511"
   }
  },
  {
   "cell_type": "code",
   "execution_count": 13,
   "source": [
    "scores = modelo.evaluate(X_valid, y_valid)\r\n",
    "print(\"\\n%s: %.2f%%\" % (modelo.metrics_names[1], scores[1]*100))"
   ],
   "outputs": [
    {
     "output_type": "stream",
     "name": "stdout",
     "text": [
      "11/11 [==============================] - 0s 544us/step - loss: 0.6116 - accuracy: 0.8080\n",
      "\n",
      "accuracy: 80.80%\n"
     ]
    }
   ],
   "metadata": {
    "id": "f-wYHK05hWMb"
   }
  }
 ],
 "metadata": {
  "colab": {
   "name": "Trabalho Final Deep Learning - Exercício 05.1.ipynb",
   "provenance": []
  },
  "interpreter": {
   "hash": "34dfee18d5f4a96df9a8fcc719c91cf50e8ed50de2aa108bf45cd20982063274"
  },
  "kernelspec": {
   "name": "python3",
   "display_name": "Python 3.8.8 64-bit ('base': conda)"
  },
  "language_info": {
   "codemirror_mode": {
    "name": "ipython",
    "version": 3
   },
   "file_extension": ".py",
   "mimetype": "text/x-python",
   "name": "python",
   "nbconvert_exporter": "python",
   "pygments_lexer": "ipython3",
   "version": "3.8.8"
  }
 },
 "nbformat": 4,
 "nbformat_minor": 2
}