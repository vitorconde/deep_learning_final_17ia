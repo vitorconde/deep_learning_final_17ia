{
  "nbformat": 4,
  "nbformat_minor": 2,
  "metadata": {
    "colab": {
      "name": "Trabalho Final Deep Learning - Exercício 03.2.ipynb",
      "provenance": [],
      "collapsed_sections": []
    },
    "kernelspec": {
      "name": "python3",
      "display_name": "Python 3.8.8 64-bit ('base': conda)"
    },
    "language_info": {
      "name": "python",
      "version": "3.8.8",
      "mimetype": "text/x-python",
      "codemirror_mode": {
        "name": "ipython",
        "version": 3
      },
      "pygments_lexer": "ipython3",
      "nbconvert_exporter": "python",
      "file_extension": ".py"
    },
    "interpreter": {
      "hash": "34dfee18d5f4a96df9a8fcc719c91cf50e8ed50de2aa108bf45cd20982063274"
    }
  },
  "cells": [
    {
      "cell_type": "code",
      "execution_count": 1,
      "source": [
        "# Link Trabalho Final : https://www.dropbox.com/s/3fla2xuc8t9xba2/Deep%20Learning%20-%20Lista%20de%20Exerc%C3%ADcios%20v1.4.pdf?dl=0"
      ],
      "outputs": [],
      "metadata": {
        "id": "IL4uIJ3BHj5h"
      }
    },
    {
      "cell_type": "code",
      "execution_count": 2,
      "source": [
        "# Importando as bibliotecas\r\n",
        "import keras\r\n",
        "from keras.datasets import cifar10\r\n",
        "import numpy as np\r\n",
        "import matplotlib.pyplot as plt\r\n",
        "from keras.models import Sequential,load_model\r\n",
        "from keras.layers import Conv2D, MaxPooling2D, Flatten, Dense, Dropout, AveragePooling2D\r\n",
        "from keras.utils import np_utils\r\n",
        "#from keras.utils import plot_model\r\n",
        "from keras.utils.vis_utils import plot_model\r\n",
        "from keras.utils.np_utils import  to_categorical\r\n",
        "import tensorflow as tf\r\n",
        "import pandas as pd\r\n",
        "import os.path\r\n",
        "import seaborn\r\n",
        "from sklearn.model_selection import train_test_split\r\n",
        "from sklearn.preprocessing import StandardScaler\r\n",
        "from keras.callbacks import ModelCheckpoint   \r\n"
      ],
      "outputs": [],
      "metadata": {
        "id": "HfU7ax3LH4MS"
      }
    },
    {
      "cell_type": "code",
      "execution_count": 3,
      "source": [
        "#from google.colab import drive\r\n",
        "#drive.mount('/content/drive')"
      ],
      "outputs": [],
      "metadata": {
        "id": "OtOlSBqn9cbj",
        "colab": {
          "base_uri": "https://localhost:8080/"
        },
        "outputId": "0ad509aa-c3dc-4b8a-a9b0-432daf7c56c4"
      }
    },
    {
      "cell_type": "code",
      "execution_count": 4,
      "source": [
        "# Verificando se o df existe\r\n",
        "\r\n",
        "#!ls -larth '/content/drive/MyDrive/__FIAP/MBA - 17IA/Deep Learning & Reinforcement Learning/dados_trabalho_final/heart.csv'\r\n",
        "file_path = 'D:\\__Projetos_\\_MBA\\DeepLearning\\deep_learning_final_17ia\\dados\\heart.csv'\r\n",
        "\r\n",
        "if os.path.exists(file_path) :\r\n",
        "    print(\"Arquivo Existe\")"
      ],
      "outputs": [
        {
          "output_type": "stream",
          "name": "stdout",
          "text": [
            "Arquivo Existe\n"
          ]
        }
      ],
      "metadata": {
        "colab": {
          "base_uri": "https://localhost:8080/"
        },
        "id": "ogxGODsmOaWu",
        "outputId": "6a356661-6bf8-4cf0-9d79-a77043d4b9fe"
      }
    },
    {
      "cell_type": "code",
      "execution_count": 5,
      "source": [
        "# Importando dados de Heart\r\n",
        "\r\n",
        "#heart_csv = pd.read_csv('/content/drive/MyDrive/__FIAP/MBA - 17IA/Deep Learning & Reinforcement Learning/dados_trabalho_final/heart.csv')\r\n",
        "heart_csv = pd.read_csv(file_path)"
      ],
      "outputs": [],
      "metadata": {
        "id": "GZ3DjasVOkDU"
      }
    },
    {
      "cell_type": "code",
      "execution_count": 6,
      "source": [
        "print(\"Shape:\",heart_csv.shape)\r\n",
        "heart_csv.head(5)"
      ],
      "outputs": [
        {
          "output_type": "stream",
          "name": "stdout",
          "text": [
            "Shape: (303, 14)\n"
          ]
        },
        {
          "output_type": "execute_result",
          "data": {
            "text/plain": [
              "   age  sex  cp  trestbps  chol  fbs  restecg  thalach  exang  oldpeak  slope  \\\n",
              "0   63    1   3       145   233    1        0      150      0      2.3      0   \n",
              "1   37    1   2       130   250    0        1      187      0      3.5      0   \n",
              "2   41    0   1       130   204    0        0      172      0      1.4      2   \n",
              "3   56    1   1       120   236    0        1      178      0      0.8      2   \n",
              "4   57    0   0       120   354    0        1      163      1      0.6      2   \n",
              "\n",
              "   ca  thal  target  \n",
              "0   0     1       1  \n",
              "1   0     2       1  \n",
              "2   0     2       1  \n",
              "3   0     2       1  \n",
              "4   0     2       1  "
            ],
            "text/html": [
              "<div>\n",
              "<style scoped>\n",
              "    .dataframe tbody tr th:only-of-type {\n",
              "        vertical-align: middle;\n",
              "    }\n",
              "\n",
              "    .dataframe tbody tr th {\n",
              "        vertical-align: top;\n",
              "    }\n",
              "\n",
              "    .dataframe thead th {\n",
              "        text-align: right;\n",
              "    }\n",
              "</style>\n",
              "<table border=\"1\" class=\"dataframe\">\n",
              "  <thead>\n",
              "    <tr style=\"text-align: right;\">\n",
              "      <th></th>\n",
              "      <th>age</th>\n",
              "      <th>sex</th>\n",
              "      <th>cp</th>\n",
              "      <th>trestbps</th>\n",
              "      <th>chol</th>\n",
              "      <th>fbs</th>\n",
              "      <th>restecg</th>\n",
              "      <th>thalach</th>\n",
              "      <th>exang</th>\n",
              "      <th>oldpeak</th>\n",
              "      <th>slope</th>\n",
              "      <th>ca</th>\n",
              "      <th>thal</th>\n",
              "      <th>target</th>\n",
              "    </tr>\n",
              "  </thead>\n",
              "  <tbody>\n",
              "    <tr>\n",
              "      <th>0</th>\n",
              "      <td>63</td>\n",
              "      <td>1</td>\n",
              "      <td>3</td>\n",
              "      <td>145</td>\n",
              "      <td>233</td>\n",
              "      <td>1</td>\n",
              "      <td>0</td>\n",
              "      <td>150</td>\n",
              "      <td>0</td>\n",
              "      <td>2.3</td>\n",
              "      <td>0</td>\n",
              "      <td>0</td>\n",
              "      <td>1</td>\n",
              "      <td>1</td>\n",
              "    </tr>\n",
              "    <tr>\n",
              "      <th>1</th>\n",
              "      <td>37</td>\n",
              "      <td>1</td>\n",
              "      <td>2</td>\n",
              "      <td>130</td>\n",
              "      <td>250</td>\n",
              "      <td>0</td>\n",
              "      <td>1</td>\n",
              "      <td>187</td>\n",
              "      <td>0</td>\n",
              "      <td>3.5</td>\n",
              "      <td>0</td>\n",
              "      <td>0</td>\n",
              "      <td>2</td>\n",
              "      <td>1</td>\n",
              "    </tr>\n",
              "    <tr>\n",
              "      <th>2</th>\n",
              "      <td>41</td>\n",
              "      <td>0</td>\n",
              "      <td>1</td>\n",
              "      <td>130</td>\n",
              "      <td>204</td>\n",
              "      <td>0</td>\n",
              "      <td>0</td>\n",
              "      <td>172</td>\n",
              "      <td>0</td>\n",
              "      <td>1.4</td>\n",
              "      <td>2</td>\n",
              "      <td>0</td>\n",
              "      <td>2</td>\n",
              "      <td>1</td>\n",
              "    </tr>\n",
              "    <tr>\n",
              "      <th>3</th>\n",
              "      <td>56</td>\n",
              "      <td>1</td>\n",
              "      <td>1</td>\n",
              "      <td>120</td>\n",
              "      <td>236</td>\n",
              "      <td>0</td>\n",
              "      <td>1</td>\n",
              "      <td>178</td>\n",
              "      <td>0</td>\n",
              "      <td>0.8</td>\n",
              "      <td>2</td>\n",
              "      <td>0</td>\n",
              "      <td>2</td>\n",
              "      <td>1</td>\n",
              "    </tr>\n",
              "    <tr>\n",
              "      <th>4</th>\n",
              "      <td>57</td>\n",
              "      <td>0</td>\n",
              "      <td>0</td>\n",
              "      <td>120</td>\n",
              "      <td>354</td>\n",
              "      <td>0</td>\n",
              "      <td>1</td>\n",
              "      <td>163</td>\n",
              "      <td>1</td>\n",
              "      <td>0.6</td>\n",
              "      <td>2</td>\n",
              "      <td>0</td>\n",
              "      <td>2</td>\n",
              "      <td>1</td>\n",
              "    </tr>\n",
              "  </tbody>\n",
              "</table>\n",
              "</div>"
            ]
          },
          "metadata": {},
          "execution_count": 6
        }
      ],
      "metadata": {
        "colab": {
          "base_uri": "https://localhost:8080/",
          "height": 224
        },
        "id": "Ii4O94VxO7qE",
        "outputId": "f225b34a-2d60-44b4-e63f-1c2e312660b8"
      }
    },
    {
      "cell_type": "code",
      "execution_count": 7,
      "source": [
        "heart_csv.describe()"
      ],
      "outputs": [
        {
          "output_type": "execute_result",
          "data": {
            "text/plain": [
              "              age         sex          cp    trestbps        chol         fbs  \\\n",
              "count  303.000000  303.000000  303.000000  303.000000  303.000000  303.000000   \n",
              "mean    54.366337    0.683168    0.966997  131.623762  246.264026    0.148515   \n",
              "std      9.082101    0.466011    1.032052   17.538143   51.830751    0.356198   \n",
              "min     29.000000    0.000000    0.000000   94.000000  126.000000    0.000000   \n",
              "25%     47.500000    0.000000    0.000000  120.000000  211.000000    0.000000   \n",
              "50%     55.000000    1.000000    1.000000  130.000000  240.000000    0.000000   \n",
              "75%     61.000000    1.000000    2.000000  140.000000  274.500000    0.000000   \n",
              "max     77.000000    1.000000    3.000000  200.000000  564.000000    1.000000   \n",
              "\n",
              "          restecg     thalach       exang     oldpeak       slope          ca  \\\n",
              "count  303.000000  303.000000  303.000000  303.000000  303.000000  303.000000   \n",
              "mean     0.528053  149.646865    0.326733    1.039604    1.399340    0.729373   \n",
              "std      0.525860   22.905161    0.469794    1.161075    0.616226    1.022606   \n",
              "min      0.000000   71.000000    0.000000    0.000000    0.000000    0.000000   \n",
              "25%      0.000000  133.500000    0.000000    0.000000    1.000000    0.000000   \n",
              "50%      1.000000  153.000000    0.000000    0.800000    1.000000    0.000000   \n",
              "75%      1.000000  166.000000    1.000000    1.600000    2.000000    1.000000   \n",
              "max      2.000000  202.000000    1.000000    6.200000    2.000000    4.000000   \n",
              "\n",
              "             thal      target  \n",
              "count  303.000000  303.000000  \n",
              "mean     2.313531    0.544554  \n",
              "std      0.612277    0.498835  \n",
              "min      0.000000    0.000000  \n",
              "25%      2.000000    0.000000  \n",
              "50%      2.000000    1.000000  \n",
              "75%      3.000000    1.000000  \n",
              "max      3.000000    1.000000  "
            ],
            "text/html": [
              "<div>\n",
              "<style scoped>\n",
              "    .dataframe tbody tr th:only-of-type {\n",
              "        vertical-align: middle;\n",
              "    }\n",
              "\n",
              "    .dataframe tbody tr th {\n",
              "        vertical-align: top;\n",
              "    }\n",
              "\n",
              "    .dataframe thead th {\n",
              "        text-align: right;\n",
              "    }\n",
              "</style>\n",
              "<table border=\"1\" class=\"dataframe\">\n",
              "  <thead>\n",
              "    <tr style=\"text-align: right;\">\n",
              "      <th></th>\n",
              "      <th>age</th>\n",
              "      <th>sex</th>\n",
              "      <th>cp</th>\n",
              "      <th>trestbps</th>\n",
              "      <th>chol</th>\n",
              "      <th>fbs</th>\n",
              "      <th>restecg</th>\n",
              "      <th>thalach</th>\n",
              "      <th>exang</th>\n",
              "      <th>oldpeak</th>\n",
              "      <th>slope</th>\n",
              "      <th>ca</th>\n",
              "      <th>thal</th>\n",
              "      <th>target</th>\n",
              "    </tr>\n",
              "  </thead>\n",
              "  <tbody>\n",
              "    <tr>\n",
              "      <th>count</th>\n",
              "      <td>303.000000</td>\n",
              "      <td>303.000000</td>\n",
              "      <td>303.000000</td>\n",
              "      <td>303.000000</td>\n",
              "      <td>303.000000</td>\n",
              "      <td>303.000000</td>\n",
              "      <td>303.000000</td>\n",
              "      <td>303.000000</td>\n",
              "      <td>303.000000</td>\n",
              "      <td>303.000000</td>\n",
              "      <td>303.000000</td>\n",
              "      <td>303.000000</td>\n",
              "      <td>303.000000</td>\n",
              "      <td>303.000000</td>\n",
              "    </tr>\n",
              "    <tr>\n",
              "      <th>mean</th>\n",
              "      <td>54.366337</td>\n",
              "      <td>0.683168</td>\n",
              "      <td>0.966997</td>\n",
              "      <td>131.623762</td>\n",
              "      <td>246.264026</td>\n",
              "      <td>0.148515</td>\n",
              "      <td>0.528053</td>\n",
              "      <td>149.646865</td>\n",
              "      <td>0.326733</td>\n",
              "      <td>1.039604</td>\n",
              "      <td>1.399340</td>\n",
              "      <td>0.729373</td>\n",
              "      <td>2.313531</td>\n",
              "      <td>0.544554</td>\n",
              "    </tr>\n",
              "    <tr>\n",
              "      <th>std</th>\n",
              "      <td>9.082101</td>\n",
              "      <td>0.466011</td>\n",
              "      <td>1.032052</td>\n",
              "      <td>17.538143</td>\n",
              "      <td>51.830751</td>\n",
              "      <td>0.356198</td>\n",
              "      <td>0.525860</td>\n",
              "      <td>22.905161</td>\n",
              "      <td>0.469794</td>\n",
              "      <td>1.161075</td>\n",
              "      <td>0.616226</td>\n",
              "      <td>1.022606</td>\n",
              "      <td>0.612277</td>\n",
              "      <td>0.498835</td>\n",
              "    </tr>\n",
              "    <tr>\n",
              "      <th>min</th>\n",
              "      <td>29.000000</td>\n",
              "      <td>0.000000</td>\n",
              "      <td>0.000000</td>\n",
              "      <td>94.000000</td>\n",
              "      <td>126.000000</td>\n",
              "      <td>0.000000</td>\n",
              "      <td>0.000000</td>\n",
              "      <td>71.000000</td>\n",
              "      <td>0.000000</td>\n",
              "      <td>0.000000</td>\n",
              "      <td>0.000000</td>\n",
              "      <td>0.000000</td>\n",
              "      <td>0.000000</td>\n",
              "      <td>0.000000</td>\n",
              "    </tr>\n",
              "    <tr>\n",
              "      <th>25%</th>\n",
              "      <td>47.500000</td>\n",
              "      <td>0.000000</td>\n",
              "      <td>0.000000</td>\n",
              "      <td>120.000000</td>\n",
              "      <td>211.000000</td>\n",
              "      <td>0.000000</td>\n",
              "      <td>0.000000</td>\n",
              "      <td>133.500000</td>\n",
              "      <td>0.000000</td>\n",
              "      <td>0.000000</td>\n",
              "      <td>1.000000</td>\n",
              "      <td>0.000000</td>\n",
              "      <td>2.000000</td>\n",
              "      <td>0.000000</td>\n",
              "    </tr>\n",
              "    <tr>\n",
              "      <th>50%</th>\n",
              "      <td>55.000000</td>\n",
              "      <td>1.000000</td>\n",
              "      <td>1.000000</td>\n",
              "      <td>130.000000</td>\n",
              "      <td>240.000000</td>\n",
              "      <td>0.000000</td>\n",
              "      <td>1.000000</td>\n",
              "      <td>153.000000</td>\n",
              "      <td>0.000000</td>\n",
              "      <td>0.800000</td>\n",
              "      <td>1.000000</td>\n",
              "      <td>0.000000</td>\n",
              "      <td>2.000000</td>\n",
              "      <td>1.000000</td>\n",
              "    </tr>\n",
              "    <tr>\n",
              "      <th>75%</th>\n",
              "      <td>61.000000</td>\n",
              "      <td>1.000000</td>\n",
              "      <td>2.000000</td>\n",
              "      <td>140.000000</td>\n",
              "      <td>274.500000</td>\n",
              "      <td>0.000000</td>\n",
              "      <td>1.000000</td>\n",
              "      <td>166.000000</td>\n",
              "      <td>1.000000</td>\n",
              "      <td>1.600000</td>\n",
              "      <td>2.000000</td>\n",
              "      <td>1.000000</td>\n",
              "      <td>3.000000</td>\n",
              "      <td>1.000000</td>\n",
              "    </tr>\n",
              "    <tr>\n",
              "      <th>max</th>\n",
              "      <td>77.000000</td>\n",
              "      <td>1.000000</td>\n",
              "      <td>3.000000</td>\n",
              "      <td>200.000000</td>\n",
              "      <td>564.000000</td>\n",
              "      <td>1.000000</td>\n",
              "      <td>2.000000</td>\n",
              "      <td>202.000000</td>\n",
              "      <td>1.000000</td>\n",
              "      <td>6.200000</td>\n",
              "      <td>2.000000</td>\n",
              "      <td>4.000000</td>\n",
              "      <td>3.000000</td>\n",
              "      <td>1.000000</td>\n",
              "    </tr>\n",
              "  </tbody>\n",
              "</table>\n",
              "</div>"
            ]
          },
          "metadata": {},
          "execution_count": 7
        }
      ],
      "metadata": {
        "colab": {
          "base_uri": "https://localhost:8080/",
          "height": 299
        },
        "id": "tnDm1T-6O2N9",
        "outputId": "f2de0d65-4640-4525-b55b-26b7a9d34c9d"
      }
    },
    {
      "cell_type": "code",
      "execution_count": 8,
      "source": [
        "heart_csv.isnull().sum()"
      ],
      "outputs": [
        {
          "output_type": "execute_result",
          "data": {
            "text/plain": [
              "age         0\n",
              "sex         0\n",
              "cp          0\n",
              "trestbps    0\n",
              "chol        0\n",
              "fbs         0\n",
              "restecg     0\n",
              "thalach     0\n",
              "exang       0\n",
              "oldpeak     0\n",
              "slope       0\n",
              "ca          0\n",
              "thal        0\n",
              "target      0\n",
              "dtype: int64"
            ]
          },
          "metadata": {},
          "execution_count": 8
        }
      ],
      "metadata": {
        "colab": {
          "base_uri": "https://localhost:8080/"
        },
        "id": "6NiteAoirLrf",
        "outputId": "0a1e5484-96ee-4908-dad6-3b9554bb7d8d"
      }
    },
    {
      "cell_type": "code",
      "execution_count": 9,
      "source": [
        "hist = heart_csv.hist(bins=10, figsize=(16,10))"
      ],
      "outputs": [
        {
          "output_type": "display_data",
          "data": {
            "text/plain": [
              "<Figure size 1152x720 with 16 Axes>"
            ],
            "image/png": "[encoded data removed]"
          },
          "metadata": {
            "needs_background": "light"
          }
        }
      ],
      "metadata": {
        "colab": {
          "base_uri": "https://localhost:8080/",
          "height": 607
        },
        "id": "U_pu0IQCrkA8",
        "outputId": "a711e7b7-eccc-429a-b538-1ad8ad0b6d53"
      }
    },
    {
      "cell_type": "code",
      "execution_count": 10,
      "source": [
        "# Separando dados em X e Y\r\n",
        "X= heart_csv.drop('target',axis=1).to_numpy()\r\n",
        "Y= heart_csv['target'].to_numpy()\r\n",
        "print(X.shape, Y.shape, heart_csv.columns)\r\n",
        "\r\n",
        "X_train,X_test,y_train, y_test = train_test_split(X,Y,test_size = 0.3 , random_state = 0)\r\n",
        "X_train,X_valid,y_train, y_valid = train_test_split(X_train,y_train,test_size = 0.3 , random_state = 0)"
      ],
      "outputs": [
        {
          "output_type": "stream",
          "name": "stdout",
          "text": [
            "(303, 13) (303,) Index(['age', 'sex', 'cp', 'trestbps', 'chol', 'fbs', 'restecg', 'thalach',\n",
            "       'exang', 'oldpeak', 'slope', 'ca', 'thal', 'target'],\n",
            "      dtype='object')\n"
          ]
        }
      ],
      "metadata": {
        "colab": {
          "base_uri": "https://localhost:8080/"
        },
        "id": "j1lbFv_oPt_U",
        "outputId": "3262374b-f715-4e24-e155-033ec904670a"
      }
    },
    {
      "cell_type": "code",
      "execution_count": 11,
      "source": [
        "sc = StandardScaler()\r\n",
        "X_train = sc.fit_transform(X_train)\r\n",
        "X_test = sc.transform(X_test)\r\n",
        "X_valid = sc.transform(X_valid)"
      ],
      "outputs": [],
      "metadata": {
        "id": "dvfyDopmrppE"
      }
    },
    {
      "cell_type": "code",
      "execution_count": 12,
      "source": [
        "print(\"Shape df:\",heart_csv.shape)\r\n",
        "\r\n",
        "print(\"Shape X_train:\",X_train.shape)\r\n",
        "print(\"Shape X_test:\",X_test.shape)\r\n",
        "print(\"Shape X_valid:\",X_valid.shape)\r\n",
        "print(\"Shape y_train:\",y_train.shape)\r\n",
        "print(\"Shape y_test:\",y_test.shape)\r\n",
        "print(\"Shape y_valid:\",y_valid.shape)\r\n",
        "type(X_train)"
      ],
      "outputs": [
        {
          "output_type": "stream",
          "name": "stdout",
          "text": [
            "Shape df: (303, 14)\n",
            "Shape X_train: (148, 13)\n",
            "Shape X_test: (91, 13)\n",
            "Shape X_valid: (64, 13)\n",
            "Shape y_train: (148,)\n",
            "Shape y_test: (91,)\n",
            "Shape y_valid: (64,)\n"
          ]
        },
        {
          "output_type": "execute_result",
          "data": {
            "text/plain": [
              "numpy.ndarray"
            ]
          },
          "metadata": {},
          "execution_count": 12
        }
      ],
      "metadata": {}
    },
    {
      "cell_type": "code",
      "execution_count": 13,
      "source": [
        "modelo = Sequential()\r\n",
        "modelo.add(Dense(12, activation = \"relu\", input_dim = 13, kernel_initializer = \"uniform\"))\r\n",
        "modelo.add(Dense(6, activation = \"relu\",\r\n",
        "                     kernel_initializer = \"uniform\"))\r\n",
        "modelo.add(Dropout(0.2))\r\n",
        "modelo.add(Dense(1, activation = \"relu\",\r\n",
        "                     kernel_initializer = \"uniform\"))\r\n",
        "modelo.add(Dropout(0.2))\r\n",
        "modelo.compile(optimizer = 'adam' , loss = 'binary_crossentropy', \r\n",
        "                   metrics = ['accuracy'] )\r\n",
        "modelo.summary()"
      ],
      "outputs": [
        {
          "output_type": "stream",
          "name": "stdout",
          "text": [
            "Model: \"sequential\"\n",
            "_________________________________________________________________\n",
            "Layer (type)                 Output Shape              Param #   \n",
            "=================================================================\n",
            "dense (Dense)                (None, 12)                168       \n",
            "_________________________________________________________________\n",
            "dense_1 (Dense)              (None, 6)                 78        \n",
            "_________________________________________________________________\n",
            "dropout (Dropout)            (None, 6)                 0         \n",
            "_________________________________________________________________\n",
            "dense_2 (Dense)              (None, 1)                 7         \n",
            "_________________________________________________________________\n",
            "dropout_1 (Dropout)          (None, 1)                 0         \n",
            "=================================================================\n",
            "Total params: 253\n",
            "Trainable params: 253\n",
            "Non-trainable params: 0\n",
            "_________________________________________________________________\n"
          ]
        }
      ],
      "metadata": {
        "id": "rHoCODoJSpuY",
        "colab": {
          "base_uri": "https://localhost:8080/"
        },
        "outputId": "97544af1-7efe-4ab6-8046-a6b67d49ce43"
      }
    },
    {
      "cell_type": "code",
      "execution_count": 14,
      "source": [
        "# Criando modelo com checkpoint automático\r\n",
        "\r\n",
        "checkpointer = ModelCheckpoint(filepath='checkpoint_3-2.hdf', verbose=1,  save_best_only=True, monitor='val_accuracy')\r\n",
        "# checkpointer = ModelCheckpoint(filepath='teste.hdf', verbose=1,  save_best_only=True, monitor='val_accuracy')\r\n",
        "\r\n",
        "hist = modelo.fit(X_train, y_train, batch_size=15, epochs=50, validation_data=(X_valid, y_valid), callbacks=[checkpointer], verbose=1, shuffle=True)"
      ],
      "outputs": [
        {
          "output_type": "stream",
          "name": "stdout",
          "text": [
            "Epoch 1/50\n",
            " 1/10 [==>...........................] - ETA: 0s - loss: 4.6218 - accuracy: 0.5333WARNING:tensorflow:Callbacks method `on_test_batch_begin` is slow compared to the batch time (batch time: 0.0000s vs `on_test_batch_begin` time: 0.0010s). Check your callbacks.\n",
            "\n",
            "Epoch 00001: val_accuracy improved from -inf to 0.46875, saving model to teste.hdf\n",
            "WARNING:tensorflow:From F:\\Anaconda\\lib\\site-packages\\tensorflow\\python\\training\\tracking\\tracking.py:111: Model.state_updates (from tensorflow.python.keras.engine.training) is deprecated and will be removed in a future version.\n",
            "Instructions for updating:\n",
            "This property should not be used in TensorFlow 2.0, as updates are applied automatically.\n",
            "WARNING:tensorflow:From F:\\Anaconda\\lib\\site-packages\\tensorflow\\python\\training\\tracking\\tracking.py:111: Layer.updates (from tensorflow.python.keras.engine.base_layer) is deprecated and will be removed in a future version.\n",
            "Instructions for updating:\n",
            "This property should not be used in TensorFlow 2.0, as updates are applied automatically.\n",
            "INFO:tensorflow:Assets written to: teste.hdf\\assets\n",
            "10/10 [==============================] - 1s 118ms/step - loss: 4.2147 - accuracy: 0.4324 - val_loss: 2.7012 - val_accuracy: 0.4688\n",
            "Epoch 2/50\n",
            " 1/10 [==>...........................] - ETA: 0s - loss: 2.9618 - accuracy: 0.5333\n",
            "Epoch 00002: val_accuracy did not improve from 0.46875\n",
            "10/10 [==============================] - 0s 2ms/step - loss: 3.6631 - accuracy: 0.4324 - val_loss: 2.4917 - val_accuracy: 0.4688\n",
            "Epoch 3/50\n",
            " 1/10 [==>...........................] - ETA: 0s - loss: 1.7899 - accuracy: 0.6000\n",
            "Epoch 00003: val_accuracy did not improve from 0.46875\n",
            "10/10 [==============================] - 0s 2ms/step - loss: 3.3695 - accuracy: 0.4324 - val_loss: 2.3413 - val_accuracy: 0.4688\n",
            "Epoch 4/50\n",
            " 1/10 [==>...........................] - ETA: 0s - loss: 3.2405 - accuracy: 0.4000\n",
            "Epoch 00004: val_accuracy did not improve from 0.46875\n",
            "10/10 [==============================] - 0s 2ms/step - loss: 4.1446 - accuracy: 0.4324 - val_loss: 2.2038 - val_accuracy: 0.4688\n",
            "Epoch 5/50\n",
            " 1/10 [==>...........................] - ETA: 0s - loss: 4.8985 - accuracy: 0.1333\n",
            "Epoch 00005: val_accuracy did not improve from 0.46875\n",
            "10/10 [==============================] - 0s 2ms/step - loss: 3.4888 - accuracy: 0.4324 - val_loss: 2.0631 - val_accuracy: 0.4688\n",
            "Epoch 6/50\n",
            " 1/10 [==>...........................] - ETA: 0s - loss: 3.7767 - accuracy: 0.4000\n",
            "Epoch 00006: val_accuracy did not improve from 0.46875\n",
            "10/10 [==============================] - 0s 2ms/step - loss: 2.7998 - accuracy: 0.4324 - val_loss: 1.9237 - val_accuracy: 0.4688\n",
            "Epoch 7/50\n",
            " 1/10 [==>...........................] - ETA: 0s - loss: 2.9770 - accuracy: 0.6000\n",
            "Epoch 00007: val_accuracy did not improve from 0.46875\n",
            "10/10 [==============================] - 0s 2ms/step - loss: 3.2487 - accuracy: 0.4324 - val_loss: 1.7876 - val_accuracy: 0.4688\n",
            "Epoch 8/50\n",
            " 1/10 [==>...........................] - ETA: 0s - loss: 2.4168 - accuracy: 0.4667\n",
            "Epoch 00008: val_accuracy did not improve from 0.46875\n",
            "10/10 [==============================] - 0s 2ms/step - loss: 3.2277 - accuracy: 0.4324 - val_loss: 1.6584 - val_accuracy: 0.4688\n",
            "Epoch 9/50\n",
            " 1/10 [==>...........................] - ETA: 0s - loss: 4.4624 - accuracy: 0.3333\n",
            "Epoch 00009: val_accuracy did not improve from 0.46875\n",
            "10/10 [==============================] - 0s 1ms/step - loss: 3.0368 - accuracy: 0.4324 - val_loss: 1.5406 - val_accuracy: 0.4688\n",
            "Epoch 10/50\n",
            " 1/10 [==>...........................] - ETA: 0s - loss: 2.4164 - accuracy: 0.4000\n",
            "Epoch 00010: val_accuracy did not improve from 0.46875\n",
            "10/10 [==============================] - 0s 1ms/step - loss: 3.0376 - accuracy: 0.4324 - val_loss: 1.4317 - val_accuracy: 0.4688\n",
            "Epoch 11/50\n",
            " 1/10 [==>...........................] - ETA: 0s - loss: 2.0559 - accuracy: 0.4667\n",
            "Epoch 00011: val_accuracy did not improve from 0.46875\n",
            "10/10 [==============================] - 0s 2ms/step - loss: 2.2772 - accuracy: 0.4324 - val_loss: 1.3260 - val_accuracy: 0.4688\n",
            "Epoch 12/50\n",
            " 1/10 [==>...........................] - ETA: 0s - loss: 1.2690 - accuracy: 0.4000\n",
            "Epoch 00012: val_accuracy did not improve from 0.46875\n",
            "10/10 [==============================] - 0s 2ms/step - loss: 2.5873 - accuracy: 0.4324 - val_loss: 1.2259 - val_accuracy: 0.4688\n",
            "Epoch 13/50\n",
            " 1/10 [==>...........................] - ETA: 0s - loss: 4.1266 - accuracy: 0.3333\n",
            "Epoch 00013: val_accuracy did not improve from 0.46875\n",
            "10/10 [==============================] - 0s 2ms/step - loss: 2.4106 - accuracy: 0.4324 - val_loss: 1.1383 - val_accuracy: 0.4688\n",
            "Epoch 14/50\n",
            " 1/10 [==>...........................] - ETA: 0s - loss: 1.4784 - accuracy: 0.2667\n",
            "Epoch 00014: val_accuracy did not improve from 0.46875\n",
            "10/10 [==============================] - 0s 2ms/step - loss: 2.8818 - accuracy: 0.4324 - val_loss: 1.0555 - val_accuracy: 0.4688\n",
            "Epoch 15/50\n",
            " 1/10 [==>...........................] - ETA: 0s - loss: 2.8517 - accuracy: 0.4000\n",
            "Epoch 00015: val_accuracy did not improve from 0.46875\n",
            "10/10 [==============================] - 0s 2ms/step - loss: 2.5535 - accuracy: 0.4392 - val_loss: 0.9828 - val_accuracy: 0.4688\n",
            "Epoch 16/50\n",
            " 1/10 [==>...........................] - ETA: 0s - loss: 4.6738 - accuracy: 0.4000\n",
            "Epoch 00016: val_accuracy did not improve from 0.46875\n",
            "10/10 [==============================] - 0s 2ms/step - loss: 2.6068 - accuracy: 0.4392 - val_loss: 0.9215 - val_accuracy: 0.4688\n",
            "Epoch 17/50\n",
            " 1/10 [==>...........................] - ETA: 0s - loss: 1.9729 - accuracy: 0.3333\n",
            "Epoch 00017: val_accuracy did not improve from 0.46875\n",
            "10/10 [==============================] - 0s 2ms/step - loss: 1.8297 - accuracy: 0.4932 - val_loss: 0.8583 - val_accuracy: 0.4688\n",
            "Epoch 18/50\n",
            " 1/10 [==>...........................] - ETA: 0s - loss: 1.8024 - accuracy: 0.4667\n",
            "Epoch 00018: val_accuracy improved from 0.46875 to 0.48438, saving model to teste.hdf\n",
            "INFO:tensorflow:Assets written to: teste.hdf\\assets\n",
            "10/10 [==============================] - 1s 105ms/step - loss: 1.8178 - accuracy: 0.5068 - val_loss: 0.7986 - val_accuracy: 0.4844\n",
            "Epoch 19/50\n",
            " 1/10 [==>...........................] - ETA: 0s - loss: 1.5772 - accuracy: 0.6000\n",
            "Epoch 00019: val_accuracy improved from 0.48438 to 0.53125, saving model to teste.hdf\n",
            "INFO:tensorflow:Assets written to: teste.hdf\\assets\n",
            "10/10 [==============================] - 1s 102ms/step - loss: 1.7622 - accuracy: 0.5743 - val_loss: 0.7460 - val_accuracy: 0.5312\n",
            "Epoch 20/50\n",
            " 1/10 [==>...........................] - ETA: 0s - loss: 2.8977 - accuracy: 0.4000\n",
            "Epoch 00020: val_accuracy improved from 0.53125 to 0.56250, saving model to teste.hdf\n",
            "INFO:tensorflow:Assets written to: teste.hdf\\assets\n",
            "10/10 [==============================] - 1s 117ms/step - loss: 2.0323 - accuracy: 0.6216 - val_loss: 0.6951 - val_accuracy: 0.5625\n",
            "Epoch 21/50\n",
            " 1/10 [==>...........................] - ETA: 0s - loss: 1.7078 - accuracy: 0.5333\n",
            "Epoch 00021: val_accuracy improved from 0.56250 to 0.64062, saving model to teste.hdf\n",
            "INFO:tensorflow:Assets written to: teste.hdf\\assets\n",
            "10/10 [==============================] - 1s 117ms/step - loss: 2.5045 - accuracy: 0.6351 - val_loss: 0.6542 - val_accuracy: 0.6406\n",
            "Epoch 22/50\n",
            " 1/10 [==>...........................] - ETA: 0s - loss: 2.4322 - accuracy: 0.6667\n",
            "Epoch 00022: val_accuracy improved from 0.64062 to 0.67188, saving model to teste.hdf\n",
            "INFO:tensorflow:Assets written to: teste.hdf\\assets\n",
            "10/10 [==============================] - 1s 112ms/step - loss: 2.0803 - accuracy: 0.6554 - val_loss: 0.6160 - val_accuracy: 0.6719\n",
            "Epoch 23/50\n",
            " 1/10 [==>...........................] - ETA: 0s - loss: 2.3984 - accuracy: 0.6667\n",
            "Epoch 00023: val_accuracy did not improve from 0.67188\n",
            "10/10 [==============================] - 0s 2ms/step - loss: 2.4495 - accuracy: 0.6689 - val_loss: 0.5865 - val_accuracy: 0.6719\n",
            "Epoch 24/50\n",
            " 1/10 [==>...........................] - ETA: 0s - loss: 1.5932 - accuracy: 0.7333\n",
            "Epoch 00024: val_accuracy improved from 0.67188 to 0.71875, saving model to teste.hdf\n",
            "INFO:tensorflow:Assets written to: teste.hdf\\assets\n",
            "10/10 [==============================] - 1s 119ms/step - loss: 1.9690 - accuracy: 0.6892 - val_loss: 0.5633 - val_accuracy: 0.7188\n",
            "Epoch 25/50\n",
            " 1/10 [==>...........................] - ETA: 0s - loss: 2.5535 - accuracy: 0.6667\n",
            "Epoch 00025: val_accuracy did not improve from 0.71875\n",
            "10/10 [==============================] - 0s 2ms/step - loss: 2.6356 - accuracy: 0.6689 - val_loss: 0.5412 - val_accuracy: 0.7188\n",
            "Epoch 26/50\n",
            " 1/10 [==>...........................] - ETA: 0s - loss: 1.2768 - accuracy: 0.8667\n",
            "Epoch 00026: val_accuracy improved from 0.71875 to 0.73438, saving model to teste.hdf\n",
            "INFO:tensorflow:Assets written to: teste.hdf\\assets\n",
            "10/10 [==============================] - 1s 110ms/step - loss: 2.1966 - accuracy: 0.7162 - val_loss: 0.5235 - val_accuracy: 0.7344\n",
            "Epoch 27/50\n",
            " 1/10 [==>...........................] - ETA: 0s - loss: 3.3416 - accuracy: 0.6667\n",
            "Epoch 00027: val_accuracy did not improve from 0.73438\n",
            "10/10 [==============================] - 0s 2ms/step - loss: 1.9995 - accuracy: 0.7365 - val_loss: 0.5066 - val_accuracy: 0.7344\n",
            "Epoch 28/50\n",
            " 1/10 [==>...........................] - ETA: 0s - loss: 1.3919 - accuracy: 0.6667\n",
            "Epoch 00028: val_accuracy did not improve from 0.73438\n",
            "10/10 [==============================] - 0s 2ms/step - loss: 1.9062 - accuracy: 0.7095 - val_loss: 0.4983 - val_accuracy: 0.7344\n",
            "Epoch 29/50\n",
            " 1/10 [==>...........................] - ETA: 0s - loss: 1.4382 - accuracy: 0.7333\n",
            "Epoch 00029: val_accuracy improved from 0.73438 to 0.75000, saving model to teste.hdf\n",
            "INFO:tensorflow:Assets written to: teste.hdf\\assets\n",
            "10/10 [==============================] - 1s 107ms/step - loss: 2.4559 - accuracy: 0.7297 - val_loss: 0.4908 - val_accuracy: 0.7500\n",
            "Epoch 30/50\n",
            " 1/10 [==>...........................] - ETA: 0s - loss: 1.2819 - accuracy: 0.8667\n",
            "Epoch 00030: val_accuracy did not improve from 0.75000\n",
            "10/10 [==============================] - 0s 2ms/step - loss: 1.8514 - accuracy: 0.7703 - val_loss: 0.4945 - val_accuracy: 0.7500\n",
            "Epoch 31/50\n",
            " 1/10 [==>...........................] - ETA: 0s - loss: 0.3621 - accuracy: 0.8667\n",
            "Epoch 00031: val_accuracy did not improve from 0.75000\n",
            "10/10 [==============================] - 0s 2ms/step - loss: 1.9545 - accuracy: 0.7703 - val_loss: 0.4964 - val_accuracy: 0.7500\n",
            "Epoch 32/50\n",
            " 1/10 [==>...........................] - ETA: 0s - loss: 1.4204 - accuracy: 0.8000\n",
            "Epoch 00032: val_accuracy did not improve from 0.75000\n",
            "10/10 [==============================] - 0s 2ms/step - loss: 2.2266 - accuracy: 0.7162 - val_loss: 0.4986 - val_accuracy: 0.7500\n",
            "Epoch 33/50\n",
            " 1/10 [==>...........................] - ETA: 0s - loss: 1.5551 - accuracy: 0.6000\n",
            "Epoch 00033: val_accuracy improved from 0.75000 to 0.76562, saving model to teste.hdf\n",
            "INFO:tensorflow:Assets written to: teste.hdf\\assets\n",
            "10/10 [==============================] - 1s 120ms/step - loss: 1.4404 - accuracy: 0.7568 - val_loss: 0.4930 - val_accuracy: 0.7656\n",
            "Epoch 34/50\n",
            " 1/10 [==>...........................] - ETA: 0s - loss: 4.3026 - accuracy: 0.7333\n",
            "Epoch 00034: val_accuracy did not improve from 0.76562\n",
            "10/10 [==============================] - 0s 2ms/step - loss: 1.2467 - accuracy: 0.8041 - val_loss: 0.4876 - val_accuracy: 0.7656\n",
            "Epoch 35/50\n",
            " 1/10 [==>...........................] - ETA: 0s - loss: 2.4362 - accuracy: 0.6667\n",
            "Epoch 00035: val_accuracy improved from 0.76562 to 0.78125, saving model to teste.hdf\n",
            "INFO:tensorflow:Assets written to: teste.hdf\\assets\n",
            "10/10 [==============================] - 1s 115ms/step - loss: 3.0306 - accuracy: 0.7297 - val_loss: 0.4827 - val_accuracy: 0.7812\n",
            "Epoch 36/50\n",
            " 1/10 [==>...........................] - ETA: 0s - loss: 1.3188 - accuracy: 0.8000\n",
            "Epoch 00036: val_accuracy did not improve from 0.78125\n",
            "10/10 [==============================] - 0s 2ms/step - loss: 2.1621 - accuracy: 0.7635 - val_loss: 0.4814 - val_accuracy: 0.7656\n",
            "Epoch 37/50\n",
            " 1/10 [==>...........................] - ETA: 0s - loss: 2.2766 - accuracy: 0.8667\n",
            "Epoch 00037: val_accuracy did not improve from 0.78125\n",
            "10/10 [==============================] - 0s 2ms/step - loss: 1.5984 - accuracy: 0.8176 - val_loss: 0.4816 - val_accuracy: 0.7656\n",
            "Epoch 38/50\n",
            " 1/10 [==>...........................] - ETA: 0s - loss: 0.2353 - accuracy: 0.8667\n",
            "Epoch 00038: val_accuracy did not improve from 0.78125\n",
            "10/10 [==============================] - 0s 2ms/step - loss: 2.1594 - accuracy: 0.7432 - val_loss: 0.4820 - val_accuracy: 0.7656\n",
            "Epoch 39/50\n",
            " 1/10 [==>...........................] - ETA: 0s - loss: 2.2713 - accuracy: 0.6667\n",
            "Epoch 00039: val_accuracy did not improve from 0.78125\n",
            "10/10 [==============================] - 0s 2ms/step - loss: 2.7639 - accuracy: 0.7027 - val_loss: 0.4819 - val_accuracy: 0.7656\n",
            "Epoch 40/50\n",
            " 1/10 [==>...........................] - ETA: 0s - loss: 0.1883 - accuracy: 0.9333\n",
            "Epoch 00040: val_accuracy did not improve from 0.78125\n",
            "10/10 [==============================] - 0s 2ms/step - loss: 2.2269 - accuracy: 0.7365 - val_loss: 0.4814 - val_accuracy: 0.7656\n",
            "Epoch 41/50\n",
            " 1/10 [==>...........................] - ETA: 0s - loss: 1.6327 - accuracy: 0.5333\n",
            "Epoch 00041: val_accuracy did not improve from 0.78125\n",
            "10/10 [==============================] - 0s 2ms/step - loss: 2.1474 - accuracy: 0.7703 - val_loss: 0.4801 - val_accuracy: 0.7812\n",
            "Epoch 42/50\n",
            " 1/10 [==>...........................] - ETA: 0s - loss: 3.4722 - accuracy: 0.6000\n",
            "Epoch 00042: val_accuracy did not improve from 0.78125\n",
            "10/10 [==============================] - 0s 2ms/step - loss: 2.2306 - accuracy: 0.7365 - val_loss: 0.4801 - val_accuracy: 0.7656\n",
            "Epoch 43/50\n",
            " 1/10 [==>...........................] - ETA: 0s - loss: 1.1017 - accuracy: 0.9333\n",
            "Epoch 00043: val_accuracy did not improve from 0.78125\n",
            "10/10 [==============================] - 0s 2ms/step - loss: 2.0501 - accuracy: 0.7568 - val_loss: 0.4867 - val_accuracy: 0.7656\n",
            "Epoch 44/50\n",
            " 1/10 [==>...........................] - ETA: 0s - loss: 2.1881 - accuracy: 0.8000\n",
            "Epoch 00044: val_accuracy did not improve from 0.78125\n",
            "10/10 [==============================] - 0s 2ms/step - loss: 1.8438 - accuracy: 0.7568 - val_loss: 0.4937 - val_accuracy: 0.7656\n",
            "Epoch 45/50\n",
            " 1/10 [==>...........................] - ETA: 0s - loss: 2.3319 - accuracy: 0.7333\n",
            "Epoch 00045: val_accuracy did not improve from 0.78125\n",
            "10/10 [==============================] - 0s 2ms/step - loss: 2.5961 - accuracy: 0.7500 - val_loss: 0.6605 - val_accuracy: 0.7656\n",
            "Epoch 46/50\n",
            " 1/10 [==>...........................] - ETA: 0s - loss: 0.3681 - accuracy: 0.8667\n",
            "Epoch 00046: val_accuracy did not improve from 0.78125\n",
            "10/10 [==============================] - 0s 2ms/step - loss: 2.2816 - accuracy: 0.7838 - val_loss: 0.6597 - val_accuracy: 0.7656\n",
            "Epoch 47/50\n",
            " 1/10 [==>...........................] - ETA: 0s - loss: 3.2426 - accuracy: 0.6667\n",
            "Epoch 00047: val_accuracy did not improve from 0.78125\n",
            "10/10 [==============================] - 0s 2ms/step - loss: 2.8017 - accuracy: 0.7365 - val_loss: 0.6557 - val_accuracy: 0.7656\n",
            "Epoch 48/50\n",
            " 1/10 [==>...........................] - ETA: 0s - loss: 0.1736 - accuracy: 0.8667\n",
            "Epoch 00048: val_accuracy did not improve from 0.78125\n",
            "10/10 [==============================] - 0s 2ms/step - loss: 1.8491 - accuracy: 0.7500 - val_loss: 0.6518 - val_accuracy: 0.7656\n",
            "Epoch 49/50\n",
            " 1/10 [==>...........................] - ETA: 0s - loss: 1.0895 - accuracy: 0.9333\n",
            "Epoch 00049: val_accuracy did not improve from 0.78125\n",
            "10/10 [==============================] - 0s 2ms/step - loss: 1.5385 - accuracy: 0.7905 - val_loss: 0.6536 - val_accuracy: 0.7656\n",
            "Epoch 50/50\n",
            " 1/10 [==>...........................] - ETA: 0s - loss: 0.2474 - accuracy: 0.8667\n",
            "Epoch 00050: val_accuracy did not improve from 0.78125\n",
            "10/10 [==============================] - 0s 2ms/step - loss: 1.7131 - accuracy: 0.7973 - val_loss: 0.6555 - val_accuracy: 0.7656\n"
          ]
        }
      ],
      "metadata": {}
    },
    {
      "cell_type": "code",
      "execution_count": 15,
      "source": [
        "plt.figure(1)\r\n",
        "plt.plot(hist.history['accuracy'])\r\n",
        "plt.plot(hist.history['val_accuracy'])\r\n",
        "plt.title('model accuracy')\r\n",
        "plt.ylabel('accuracy')\r\n",
        "plt.xlabel('epoch')\r\n",
        "plt.legend(['train', 'validation'], loc='upper left')\r\n",
        "plt.show()"
      ],
      "outputs": [
        {
          "output_type": "display_data",
          "data": {
            "text/plain": [
              "<Figure size 432x288 with 1 Axes>"
            ],
            "image/png": "[encoded data removed]"
          },
          "metadata": {
            "needs_background": "light"
          }
        }
      ],
      "metadata": {}
    },
    {
      "cell_type": "code",
      "execution_count": 16,
      "source": [
        "scores = modelo.evaluate(X_test, y_test)\r\n",
        "print(\"\\n%s: %.2f%%\" % (modelo.metrics_names[1], scores[1]*100))"
      ],
      "outputs": [
        {
          "output_type": "stream",
          "name": "stdout",
          "text": [
            "3/3 [==============================] - 0s 665us/step - loss: 0.5684 - accuracy: 0.8132\n",
            "\n",
            "accuracy: 81.32%\n"
          ]
        }
      ],
      "metadata": {
        "colab": {
          "base_uri": "https://localhost:8080/"
        },
        "id": "4PIdft2xB5Ik",
        "outputId": "9fd71eb2-8e3f-4548-9359-a253502c4ddb"
      }
    },
    {
      "cell_type": "code",
      "execution_count": 17,
      "source": [
        "scores = modelo.evaluate(X_train, y_train)\r\n",
        "print(\"\\n%s: %.2f%%\" % (modelo.metrics_names[1], scores[1]*100))"
      ],
      "outputs": [
        {
          "output_type": "stream",
          "name": "stdout",
          "text": [
            "1/5 [=====>........................] - ETA: 0s - loss: 0.3646 - accuracy: 0.7812WARNING:tensorflow:Callbacks method `on_test_batch_end` is slow compared to the batch time (batch time: 0.0000s vs `on_test_batch_end` time: 0.0010s). Check your callbacks.\n",
            "5/5 [==============================] - 0s 598us/step - loss: 0.3165 - accuracy: 0.8851\n",
            "\n",
            "accuracy: 88.51%\n"
          ]
        }
      ],
      "metadata": {
        "id": "Jl9C8tQ_irE2",
        "colab": {
          "base_uri": "https://localhost:8080/",
          "height": 189
        },
        "outputId": "1fef5987-1ff9-4d86-828c-5cbf6ec67be0"
      }
    },
    {
      "cell_type": "code",
      "execution_count": 18,
      "source": [
        "scores = modelo.evaluate(X_valid, y_valid)\r\n",
        "print(\"\\n%s: %.2f%%\" % (modelo.metrics_names[1], scores[1]*100))"
      ],
      "outputs": [
        {
          "output_type": "stream",
          "name": "stdout",
          "text": [
            "2/2 [==============================] - 0s 998us/step - loss: 0.6555 - accuracy: 0.7656\n",
            "\n",
            "accuracy: 76.56%\n"
          ]
        }
      ],
      "metadata": {
        "id": "Z0fk6GnXhUEq"
      }
    }
  ]
}