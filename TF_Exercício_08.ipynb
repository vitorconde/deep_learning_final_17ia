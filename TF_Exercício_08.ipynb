{
    "cells": [
        {
            "cell_type": "code",
            "execution_count": null,
            "source": [
                "import matplotlib.pyplot as plt\r\n",
                "import tensorflow as tf\r\n",
                "from keras.datasets import mnist\r\n",
                "from keras.models import Sequential, load_model\r\n",
                "from keras.layers import Dense, Dropout , Flatten, Activation\r\n",
                "from keras.layers.convolutional import Conv2D , AveragePooling2D\r\n",
                "from keras.layers.convolutional import MaxPooling2D \r\n",
                "from keras.callbacks import ModelCheckpoint\r\n",
                "from keras.utils import np_utils\r\n",
                "from keras import backend as K\r\n",
                "from keras.layers.advanced_activations import LeakyReLU\r\n",
                "import cv2\r\n",
                "from keras.preprocessing.image import img_to_array , load_img\r\n",
                "import numpy as np \r\n",
                "import pandas as pd\r\n",
                "from sklearn.model_selection import train_test_split\r\n",
                "import matplotlib.cm"
            ],
            "outputs": [],
            "metadata": {}
        },
        {
            "cell_type": "code",
            "execution_count": null,
            "source": [
                "df= pd.read_csv('C:/Users/vinic/Downloads/skin-cancer-mnist-ham10000/hmnist_28_28_RGB.csv')"
            ],
            "outputs": [],
            "metadata": {}
        },
        {
            "cell_type": "code",
            "execution_count": null,
            "source": [
                "dfnlpy =  df.drop(['label'], axis=1).to_numpy()\r\n",
                "dfnlpy= dfnlpy.reshape(len(df),28,28,3)\r\n",
                "dfnlpy.shape"
            ],
            "outputs": [],
            "metadata": {}
        },
        {
            "cell_type": "code",
            "execution_count": null,
            "source": [
                "#lenn=len(df)\r\n",
                "#for i in range(9):\r\n",
                "#    plt.subplot(330+1+i)\r\n",
                "#    rand= random.randint(1,lenn )\r\n",
                "#    print( rand)\r\n",
                "#    plt.imshow(dfnlpy[rand])\r\n",
                "#plt.show()\r\n",
                "\r\n",
                "def filterblackborders(object):\r\n",
                "    ii =0\r\n",
                "    for i  in object:        \r\n",
                "        r=int(np.quantile(i[:,:,0],0.75))\r\n",
                "        g=int(np.quantile(i[:,:,1],0.75))\r\n",
                "        b=int(np.quantile(i[:,:,2],0.75))\r\n",
                "        bright_channel =[r,g,b] # obtem o padrão claro de pixel na imagem\r\n",
                "        i[0:28,22:28] =bright_channel\r\n",
                "        i[22:28,0:28] =bright_channel\r\n",
                "        i[0:28,0:6] =bright_channel\r\n",
                "        i[0:6,0:28] =bright_channel\r\n",
                "        ii=ii+1\r\n",
                "        print(ii)\r\n"
            ],
            "outputs": [],
            "metadata": {}
        },
        {
            "cell_type": "code",
            "execution_count": null,
            "source": [
                "blackborders(dfnlpy)\r\n",
                "\r\n",
                "df2 = pd.DataFrame(dfnlpy.reshape(10015,2352))\r\n",
                "df2 =df2.join(df['label'])\r\n",
                "dfnlpy = df2.to_numpy()\r\n",
                "dfnlpy.shape\r\n",
                "df2.shape"
            ],
            "outputs": [],
            "metadata": {}
        },
        {
            "cell_type": "code",
            "execution_count": null,
            "source": [
                "dfnlg= df2.groupby('label')\r\n",
                "dftrain= pd.DataFrame()\r\n",
                "dftest=pd.DataFrame()\r\n",
                "\r\n",
                "for i,g in dfnlg:\r\n",
                "    train,test= np.split(g,[int(len(g)*.8)])\r\n",
                "    dftrain=dftrain.append(train, ignore_index=False);\r\n",
                "    dftest=dftest.append(test, ignore_index=False);\r\n"
            ],
            "outputs": [],
            "metadata": {}
        },
        {
            "cell_type": "code",
            "execution_count": null,
            "source": [
                "dftrain.columns = df.columns\r\n",
                "dftest.columns = df.columns"
            ],
            "outputs": [],
            "metadata": {}
        },
        {
            "cell_type": "code",
            "execution_count": null,
            "source": [
                "xtrain, xtest, ytrain, ytest = train_test_split( dfnlpy,df.label)\r\n",
                "\r\n",
                "xtrain =  dftrain.drop(['label'], axis=1).to_numpy()\r\n",
                "ytrain = dftrain['label'].to_numpy()\r\n",
                "xtest  =  dftest.drop(['label'], axis=1).to_numpy()\r\n",
                "ytest = dftest['label'].to_numpy()"
            ],
            "outputs": [],
            "metadata": {}
        },
        {
            "cell_type": "code",
            "execution_count": null,
            "source": [
                "img_rows, img_cols = 28,28\r\n",
                "xtrain= xtrain.reshape(xtrain.shape[0], img_rows, img_cols,3)\r\n",
                "xtest= xtest.reshape(xtest.shape[0],img_rows,img_cols,3)\r\n",
                "\r\n",
                "xtrain=xtrain/255\r\n",
                "xtest = xtest/255"
            ],
            "outputs": [],
            "metadata": {}
        },
        {
            "cell_type": "code",
            "execution_count": null,
            "source": [
                "ytrain = np_utils.to_categorical(ytrain)\r\n",
                "ytest= np_utils.to_categorical(ytest)\r\n",
                "\r\n",
                "numclasses = ytest.shape[1]\r\n",
                "model_input_shape = (img_rows,img_cols,3)\r\n"
            ],
            "outputs": [],
            "metadata": {}
        },
        {
            "cell_type": "code",
            "execution_count": null,
            "source": [
                "model = Sequential()\r\n",
                "model.add(Conv2D(16, (3, 3), padding ='same', activation = 'relu',input_shape = model_input_shape))\r\n",
                "model.add(Conv2D(32, (3, 3), padding ='same', activation = 'relu',input_shape = (32, 32, 3)))\r\n",
                "model.add(MaxPooling2D(pool_size = (2,2), strides = None,padding = 'valid',data_format = None))\r\n",
                "model.add(Dropout(0.25))\r\n",
                "model.add(Conv2D(32, (3, 3), padding ='same', activation = 'relu',input_shape = (32, 32, 3)))\r\n",
                "model.add(Conv2D(64, (3, 3), padding ='same', activation = 'relu',input_shape = (32, 32, 3)))\r\n",
                "model.add(MaxPooling2D(pool_size = (2,2), strides = None,padding = 'valid',data_format = None))\r\n",
                "model.add(Dropout(0.25))\r\n",
                "model.add(Flatten())\r\n",
                "model.add(Dense(400))\r\n",
                "model.add(Dense(120))\r\n",
                "model.add(Dense(numclasses))\r\n",
                "model.add(LeakyReLU(0.1))\r\n",
                "model.add(Activation('softmax'))\r\n",
                "\r\n",
                "model.compile(loss = 'categorical_crossentropy' , optimizer = 'adam' , metrics = ['accuracy'] )"
            ],
            "outputs": [],
            "metadata": {}
        },
        {
            "cell_type": "code",
            "execution_count": null,
            "source": [
                "checkpointer = ModelCheckpoint(filepath='checkpoint_8.hdf',  save_best_only=True, monitor='val_accuracy')\r\n",
                "\r\n",
                "history= model.fit(xtrain, ytrain,  callbacks=[checkpointer], validation_data= (xtest,ytest),epochs=20,batch_size=10, shuffle=True)"
            ],
            "outputs": [],
            "metadata": {}
        },
        {
            "cell_type": "code",
            "execution_count": null,
            "source": [
                "plt.figure(1)\r\n",
                "#plt.plot(history.history['categorical_accuracy'])\r\n",
                "#plt.plot(history.history['val_categorical_accuracy'])\r\n",
                "plt.plot(history.history['accuracy'])\r\n",
                "plt.plot(history.history['loss'])\r\n",
                "plt.plot(history.history['val_accuracy'])\r\n",
                "plt.plot(history.history['val_loss'])\r\n",
                "plt.title('model accuracy')\r\n",
                "plt.ylabel('accuracy')\r\n",
                "plt.xlabel('epoch')\r\n",
                "plt.legend(['train','loss', 'validation', 'val_loss'], loc ='upper left')\r\n",
                "plt.show()"
            ],
            "outputs": [],
            "metadata": {}
        },
        {
            "cell_type": "code",
            "execution_count": null,
            "source": [
                "scores = model.evaluate(X_test, y_test)\r\n",
                "print(\"\\n%s: %.2f%%\" % (model.metrics_names[1], scores[1]*100))"
            ],
            "outputs": [],
            "metadata": {}
        },
        {
            "cell_type": "code",
            "execution_count": null,
            "source": [
                "scores = model.evaluate(X_train, y_train)\r\n",
                "print(\"\\n%s: %.2f%%\" % (model.metrics_names[1], scores[1]*100))"
            ],
            "outputs": [],
            "metadata": {}
        },
        {
            "cell_type": "code",
            "execution_count": null,
            "source": [
                "scores = model.evaluate(X_valid, y_valid)\r\n",
                "print(\"\\n%s: %.2f%%\" % (model.metrics_names[1], scores[1]*100))"
            ],
            "outputs": [],
            "metadata": {}
        }
    ],
    "metadata": {
        "orig_nbformat": 4,
        "language_info": {
            "name": "python"
        }
    },
    "nbformat": 4,
    "nbformat_minor": 2
}